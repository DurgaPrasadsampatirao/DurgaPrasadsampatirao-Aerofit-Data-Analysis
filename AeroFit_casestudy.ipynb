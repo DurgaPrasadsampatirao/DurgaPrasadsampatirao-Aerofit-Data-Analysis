{
 "cells": [
  {
   "cell_type": "markdown",
   "id": "b79b8366",
   "metadata": {},
   "source": [
    "# AeroFit Case Study"
   ]
  },
  {
   "cell_type": "markdown",
   "id": "9ca718e7",
   "metadata": {},
   "source": [
    "### Introduction\n",
    "\n",
    "<span style=\"background-color: yellow;\">**Aerofit**</span>, a renowned name in the fitness equipment industry, has transformed the treadmill market with its <span style=\"background-color: yellow;\">**innovative designs**</span> and <span style=\"background-color: yellow;\">**user-focused features**</span>. By integrating <span style=\"background-color: yellow;\">**advanced technology**</span>, <span style=\"background-color: yellow;\">**ergonomic design**</span>, and <span style=\"background-color: yellow;\">**personalized fitness solutions**</span>, Aerofit treadmills have set a new benchmark in promoting <span style=\"background-color: yellow;\">**healthier**</span> and more <span style=\"background-color: yellow;\">**active lifestyles**</span>. This case study explores Aerofit's journey in redefining treadmill standards, highlighting their commitment to <span style=\"background-color: yellow;\">**quality**</span>, <span style=\"background-color: yellow;\">**innovation**</span>, and <span style=\"background-color: yellow;\">**customer satisfaction**</span>.\n",
    "\n",
    "Aerofit's treadmill lineup includes three primary models designed to cater to different age groups and fitness needs: the <span style=\"background-color: yellow;\">**KP281**</span>, <span style=\"background-color: yellow;\">**KP481**</span>, and <span style=\"background-color: yellow;\">**KP781**</span>. Below is a detailed description of each model and what we aim to achieve with them in our case study.\n"
   ]
  },
  {
   "cell_type": "markdown",
   "id": "7e6904dd",
   "metadata": {},
   "source": [
    "#### Problem Statement:\n",
    "\n",
    "Leveraging the customer data collected by Aerofit consisting of the **Gender, Age, Income, Weekly Usage, Fitness, Marital Status and Miles** run on treadmill to identify characteristics which make the customer buy a particular treadmill out of KP281, KP481 and KP781 in the increasing order of expenditures. Further providing **recommendations of treadmill** for future orders/customers based on their profile."
   ]
  },
  {
   "cell_type": "code",
   "execution_count": 1,
   "id": "6a53087c",
   "metadata": {},
   "outputs": [],
   "source": [
    "import numpy as np\n",
    "import pandas as pd\n",
    "import matplotlib.pyplot as plt\n",
    "import seaborn as sns\n",
    "import scipy.stats as sp"
   ]
  },
  {
   "cell_type": "code",
   "execution_count": 2,
   "id": "dadf5341",
   "metadata": {},
   "outputs": [],
   "source": [
    "df=pd.read_csv(\"aerofit_treadmill.txt\")"
   ]
  },
  {
   "cell_type": "code",
   "execution_count": 3,
   "id": "6d79541d",
   "metadata": {},
   "outputs": [
    {
     "data": {
      "text/html": [
       "<div>\n",
       "<style scoped>\n",
       "    .dataframe tbody tr th:only-of-type {\n",
       "        vertical-align: middle;\n",
       "    }\n",
       "\n",
       "    .dataframe tbody tr th {\n",
       "        vertical-align: top;\n",
       "    }\n",
       "\n",
       "    .dataframe thead th {\n",
       "        text-align: right;\n",
       "    }\n",
       "</style>\n",
       "<table border=\"1\" class=\"dataframe\">\n",
       "  <thead>\n",
       "    <tr style=\"text-align: right;\">\n",
       "      <th></th>\n",
       "      <th>Product</th>\n",
       "      <th>Age</th>\n",
       "      <th>Gender</th>\n",
       "      <th>Education</th>\n",
       "      <th>MaritalStatus</th>\n",
       "      <th>Usage</th>\n",
       "      <th>Fitness</th>\n",
       "      <th>Income</th>\n",
       "      <th>Miles</th>\n",
       "    </tr>\n",
       "  </thead>\n",
       "  <tbody>\n",
       "    <tr>\n",
       "      <th>0</th>\n",
       "      <td>KP281</td>\n",
       "      <td>18</td>\n",
       "      <td>Male</td>\n",
       "      <td>14</td>\n",
       "      <td>Single</td>\n",
       "      <td>3</td>\n",
       "      <td>4</td>\n",
       "      <td>29562</td>\n",
       "      <td>112</td>\n",
       "    </tr>\n",
       "    <tr>\n",
       "      <th>1</th>\n",
       "      <td>KP281</td>\n",
       "      <td>19</td>\n",
       "      <td>Male</td>\n",
       "      <td>15</td>\n",
       "      <td>Single</td>\n",
       "      <td>2</td>\n",
       "      <td>3</td>\n",
       "      <td>31836</td>\n",
       "      <td>75</td>\n",
       "    </tr>\n",
       "    <tr>\n",
       "      <th>2</th>\n",
       "      <td>KP281</td>\n",
       "      <td>19</td>\n",
       "      <td>Female</td>\n",
       "      <td>14</td>\n",
       "      <td>Partnered</td>\n",
       "      <td>4</td>\n",
       "      <td>3</td>\n",
       "      <td>30699</td>\n",
       "      <td>66</td>\n",
       "    </tr>\n",
       "    <tr>\n",
       "      <th>3</th>\n",
       "      <td>KP281</td>\n",
       "      <td>19</td>\n",
       "      <td>Male</td>\n",
       "      <td>12</td>\n",
       "      <td>Single</td>\n",
       "      <td>3</td>\n",
       "      <td>3</td>\n",
       "      <td>32973</td>\n",
       "      <td>85</td>\n",
       "    </tr>\n",
       "    <tr>\n",
       "      <th>4</th>\n",
       "      <td>KP281</td>\n",
       "      <td>20</td>\n",
       "      <td>Male</td>\n",
       "      <td>13</td>\n",
       "      <td>Partnered</td>\n",
       "      <td>4</td>\n",
       "      <td>2</td>\n",
       "      <td>35247</td>\n",
       "      <td>47</td>\n",
       "    </tr>\n",
       "  </tbody>\n",
       "</table>\n",
       "</div>"
      ],
      "text/plain": [
       "  Product  Age  Gender  Education MaritalStatus  Usage  Fitness  Income  Miles\n",
       "0   KP281   18    Male         14        Single      3        4   29562    112\n",
       "1   KP281   19    Male         15        Single      2        3   31836     75\n",
       "2   KP281   19  Female         14     Partnered      4        3   30699     66\n",
       "3   KP281   19    Male         12        Single      3        3   32973     85\n",
       "4   KP281   20    Male         13     Partnered      4        2   35247     47"
      ]
     },
     "execution_count": 3,
     "metadata": {},
     "output_type": "execute_result"
    }
   ],
   "source": [
    "df.head()"
   ]
  },
  {
   "cell_type": "code",
   "execution_count": 4,
   "id": "7bb2eb16",
   "metadata": {},
   "outputs": [
    {
     "data": {
      "text/plain": [
       "(180, 9)"
      ]
     },
     "execution_count": 4,
     "metadata": {},
     "output_type": "execute_result"
    }
   ],
   "source": [
    "df.shape"
   ]
  },
  {
   "cell_type": "code",
   "execution_count": 5,
   "id": "37493e19",
   "metadata": {},
   "outputs": [
    {
     "data": {
      "text/plain": [
       "1620"
      ]
     },
     "execution_count": 5,
     "metadata": {},
     "output_type": "execute_result"
    }
   ],
   "source": [
    "df.size"
   ]
  },
  {
   "cell_type": "code",
   "execution_count": 6,
   "id": "46fd5312",
   "metadata": {},
   "outputs": [
    {
     "data": {
      "text/plain": [
       "2"
      ]
     },
     "execution_count": 6,
     "metadata": {},
     "output_type": "execute_result"
    }
   ],
   "source": [
    "df.ndim"
   ]
  },
  {
   "cell_type": "code",
   "execution_count": 7,
   "id": "95a74f43",
   "metadata": {},
   "outputs": [
    {
     "name": "stdout",
     "output_type": "stream",
     "text": [
      "<class 'pandas.core.frame.DataFrame'>\n",
      "RangeIndex: 180 entries, 0 to 179\n",
      "Data columns (total 9 columns):\n",
      " #   Column         Non-Null Count  Dtype \n",
      "---  ------         --------------  ----- \n",
      " 0   Product        180 non-null    object\n",
      " 1   Age            180 non-null    int64 \n",
      " 2   Gender         180 non-null    object\n",
      " 3   Education      180 non-null    int64 \n",
      " 4   MaritalStatus  180 non-null    object\n",
      " 5   Usage          180 non-null    int64 \n",
      " 6   Fitness        180 non-null    int64 \n",
      " 7   Income         180 non-null    int64 \n",
      " 8   Miles          180 non-null    int64 \n",
      "dtypes: int64(6), object(3)\n",
      "memory usage: 12.8+ KB\n"
     ]
    }
   ],
   "source": [
    "df.info()"
   ]
  },
  {
   "cell_type": "code",
   "execution_count": 8,
   "id": "4e2a19f5",
   "metadata": {},
   "outputs": [
    {
     "data": {
      "text/html": [
       "<div>\n",
       "<style scoped>\n",
       "    .dataframe tbody tr th:only-of-type {\n",
       "        vertical-align: middle;\n",
       "    }\n",
       "\n",
       "    .dataframe tbody tr th {\n",
       "        vertical-align: top;\n",
       "    }\n",
       "\n",
       "    .dataframe thead th {\n",
       "        text-align: right;\n",
       "    }\n",
       "</style>\n",
       "<table border=\"1\" class=\"dataframe\">\n",
       "  <thead>\n",
       "    <tr style=\"text-align: right;\">\n",
       "      <th></th>\n",
       "      <th>Age</th>\n",
       "      <th>Education</th>\n",
       "      <th>Usage</th>\n",
       "      <th>Fitness</th>\n",
       "      <th>Income</th>\n",
       "      <th>Miles</th>\n",
       "    </tr>\n",
       "  </thead>\n",
       "  <tbody>\n",
       "    <tr>\n",
       "      <th>count</th>\n",
       "      <td>180.00</td>\n",
       "      <td>180.00</td>\n",
       "      <td>180.00</td>\n",
       "      <td>180.00</td>\n",
       "      <td>180.00</td>\n",
       "      <td>180.00</td>\n",
       "    </tr>\n",
       "    <tr>\n",
       "      <th>mean</th>\n",
       "      <td>28.79</td>\n",
       "      <td>15.57</td>\n",
       "      <td>3.46</td>\n",
       "      <td>3.31</td>\n",
       "      <td>53719.58</td>\n",
       "      <td>103.19</td>\n",
       "    </tr>\n",
       "    <tr>\n",
       "      <th>std</th>\n",
       "      <td>6.94</td>\n",
       "      <td>1.62</td>\n",
       "      <td>1.08</td>\n",
       "      <td>0.96</td>\n",
       "      <td>16506.68</td>\n",
       "      <td>51.86</td>\n",
       "    </tr>\n",
       "    <tr>\n",
       "      <th>min</th>\n",
       "      <td>18.00</td>\n",
       "      <td>12.00</td>\n",
       "      <td>2.00</td>\n",
       "      <td>1.00</td>\n",
       "      <td>29562.00</td>\n",
       "      <td>21.00</td>\n",
       "    </tr>\n",
       "    <tr>\n",
       "      <th>25%</th>\n",
       "      <td>24.00</td>\n",
       "      <td>14.00</td>\n",
       "      <td>3.00</td>\n",
       "      <td>3.00</td>\n",
       "      <td>44058.75</td>\n",
       "      <td>66.00</td>\n",
       "    </tr>\n",
       "    <tr>\n",
       "      <th>50%</th>\n",
       "      <td>26.00</td>\n",
       "      <td>16.00</td>\n",
       "      <td>3.00</td>\n",
       "      <td>3.00</td>\n",
       "      <td>50596.50</td>\n",
       "      <td>94.00</td>\n",
       "    </tr>\n",
       "    <tr>\n",
       "      <th>75%</th>\n",
       "      <td>33.00</td>\n",
       "      <td>16.00</td>\n",
       "      <td>4.00</td>\n",
       "      <td>4.00</td>\n",
       "      <td>58668.00</td>\n",
       "      <td>114.75</td>\n",
       "    </tr>\n",
       "    <tr>\n",
       "      <th>max</th>\n",
       "      <td>50.00</td>\n",
       "      <td>21.00</td>\n",
       "      <td>7.00</td>\n",
       "      <td>5.00</td>\n",
       "      <td>104581.00</td>\n",
       "      <td>360.00</td>\n",
       "    </tr>\n",
       "  </tbody>\n",
       "</table>\n",
       "</div>"
      ],
      "text/plain": [
       "          Age  Education   Usage  Fitness     Income   Miles\n",
       "count  180.00     180.00  180.00   180.00     180.00  180.00\n",
       "mean    28.79      15.57    3.46     3.31   53719.58  103.19\n",
       "std      6.94       1.62    1.08     0.96   16506.68   51.86\n",
       "min     18.00      12.00    2.00     1.00   29562.00   21.00\n",
       "25%     24.00      14.00    3.00     3.00   44058.75   66.00\n",
       "50%     26.00      16.00    3.00     3.00   50596.50   94.00\n",
       "75%     33.00      16.00    4.00     4.00   58668.00  114.75\n",
       "max     50.00      21.00    7.00     5.00  104581.00  360.00"
      ]
     },
     "execution_count": 8,
     "metadata": {},
     "output_type": "execute_result"
    }
   ],
   "source": [
    "df.describe().round(2)"
   ]
  },
  {
   "cell_type": "code",
   "execution_count": 9,
   "id": "9b59d96c",
   "metadata": {},
   "outputs": [
    {
     "data": {
      "text/html": [
       "<div>\n",
       "<style scoped>\n",
       "    .dataframe tbody tr th:only-of-type {\n",
       "        vertical-align: middle;\n",
       "    }\n",
       "\n",
       "    .dataframe tbody tr th {\n",
       "        vertical-align: top;\n",
       "    }\n",
       "\n",
       "    .dataframe thead th {\n",
       "        text-align: right;\n",
       "    }\n",
       "</style>\n",
       "<table border=\"1\" class=\"dataframe\">\n",
       "  <thead>\n",
       "    <tr style=\"text-align: right;\">\n",
       "      <th></th>\n",
       "      <th>Product</th>\n",
       "      <th>Gender</th>\n",
       "      <th>MaritalStatus</th>\n",
       "    </tr>\n",
       "  </thead>\n",
       "  <tbody>\n",
       "    <tr>\n",
       "      <th>count</th>\n",
       "      <td>180</td>\n",
       "      <td>180</td>\n",
       "      <td>180</td>\n",
       "    </tr>\n",
       "    <tr>\n",
       "      <th>unique</th>\n",
       "      <td>3</td>\n",
       "      <td>2</td>\n",
       "      <td>2</td>\n",
       "    </tr>\n",
       "    <tr>\n",
       "      <th>top</th>\n",
       "      <td>KP281</td>\n",
       "      <td>Male</td>\n",
       "      <td>Partnered</td>\n",
       "    </tr>\n",
       "    <tr>\n",
       "      <th>freq</th>\n",
       "      <td>80</td>\n",
       "      <td>104</td>\n",
       "      <td>107</td>\n",
       "    </tr>\n",
       "  </tbody>\n",
       "</table>\n",
       "</div>"
      ],
      "text/plain": [
       "       Product Gender MaritalStatus\n",
       "count      180    180           180\n",
       "unique       3      2             2\n",
       "top      KP281   Male     Partnered\n",
       "freq        80    104           107"
      ]
     },
     "execution_count": 9,
     "metadata": {},
     "output_type": "execute_result"
    }
   ],
   "source": [
    "df.describe(include = object)"
   ]
  },
  {
   "cell_type": "code",
   "execution_count": 10,
   "id": "81796d2a",
   "metadata": {},
   "outputs": [
    {
     "data": {
      "text/plain": [
       "Product          0\n",
       "Age              0\n",
       "Gender           0\n",
       "Education        0\n",
       "MaritalStatus    0\n",
       "Usage            0\n",
       "Fitness          0\n",
       "Income           0\n",
       "Miles            0\n",
       "dtype: int64"
      ]
     },
     "execution_count": 10,
     "metadata": {},
     "output_type": "execute_result"
    }
   ],
   "source": [
    "df.isnull().sum()"
   ]
  },
  {
   "cell_type": "markdown",
   "id": "5f73a408",
   "metadata": {},
   "source": [
    "- The data set that provided is completely free from nulls(i.e., no nulls)"
   ]
  },
  {
   "cell_type": "code",
   "execution_count": 11,
   "id": "070a7290",
   "metadata": {},
   "outputs": [],
   "source": [
    "# Categorizing the Numerical columns\n",
    "\n",
    "Age_bins = [17,30,40,50]\n",
    "Age_labels = ['Young', 'Mid', 'Old']\n",
    "df['Age_cat'] = pd.cut(df['Age'],bins = Age_bins,labels = Age_labels)\n",
    "Income_bins = [29000,50000,70000,90000,110000]\n",
    "Income_labels = ['29000-50000', '50000-70000', '70000-90000','90000-110000']\n",
    "df['Income_cat'] = pd.cut(df['Income'],bins = Income_bins,labels = Income_labels)\n",
    "Miles_bins = [1,100,200,300,400]\n",
    "Miles_labels = ['1-100', '100-200', '200-300','300-400']\n",
    "df['Miles_cat'] = pd.cut(df['Miles'],bins = Miles_bins,labels = Miles_labels)"
   ]
  },
  {
   "cell_type": "markdown",
   "id": "818a983e",
   "metadata": {},
   "source": [
    "### 1. Import the dataset and do usual data analysis steps like checking the structure & characteristics of the dataset"
   ]
  },
  {
   "cell_type": "markdown",
   "id": "46860d27",
   "metadata": {},
   "source": [
    "- The data type of all columns in the “customers” table."
   ]
  },
  {
   "cell_type": "code",
   "execution_count": 12,
   "id": "89fbfa87",
   "metadata": {},
   "outputs": [
    {
     "data": {
      "text/plain": [
       "Product            object\n",
       "Age                 int64\n",
       "Gender             object\n",
       "Education           int64\n",
       "MaritalStatus      object\n",
       "Usage               int64\n",
       "Fitness             int64\n",
       "Income              int64\n",
       "Miles               int64\n",
       "Age_cat          category\n",
       "Income_cat       category\n",
       "Miles_cat        category\n",
       "dtype: object"
      ]
     },
     "execution_count": 12,
     "metadata": {},
     "output_type": "execute_result"
    }
   ],
   "source": [
    "df.dtypes"
   ]
  },
  {
   "cell_type": "markdown",
   "id": "af8c6139",
   "metadata": {},
   "source": [
    "-  You can find the number of rows and columns given in the dataset"
   ]
  },
  {
   "cell_type": "code",
   "execution_count": 13,
   "id": "09f0df44",
   "metadata": {},
   "outputs": [
    {
     "name": "stdout",
     "output_type": "stream",
     "text": [
      "Number of rows: 180\n",
      "Number of columns: 12\n"
     ]
    }
   ],
   "source": [
    "num_rows, num_columns = df.shape\n",
    "\n",
    "print(\"Number of rows:\", num_rows)\n",
    "print(\"Number of columns:\", num_columns)"
   ]
  },
  {
   "cell_type": "markdown",
   "id": "65f01d52",
   "metadata": {},
   "source": [
    "-  Check for the missing values and find the number of missing values in each column"
   ]
  },
  {
   "cell_type": "code",
   "execution_count": 14,
   "id": "da750d3f",
   "metadata": {},
   "outputs": [
    {
     "data": {
      "text/html": [
       "<div>\n",
       "<style scoped>\n",
       "    .dataframe tbody tr th:only-of-type {\n",
       "        vertical-align: middle;\n",
       "    }\n",
       "\n",
       "    .dataframe tbody tr th {\n",
       "        vertical-align: top;\n",
       "    }\n",
       "\n",
       "    .dataframe thead th {\n",
       "        text-align: right;\n",
       "    }\n",
       "</style>\n",
       "<table border=\"1\" class=\"dataframe\">\n",
       "  <thead>\n",
       "    <tr style=\"text-align: right;\">\n",
       "      <th></th>\n",
       "      <th>Product</th>\n",
       "      <th>Age</th>\n",
       "      <th>Gender</th>\n",
       "      <th>Education</th>\n",
       "      <th>MaritalStatus</th>\n",
       "      <th>Usage</th>\n",
       "      <th>Fitness</th>\n",
       "      <th>Income</th>\n",
       "      <th>Miles</th>\n",
       "      <th>Age_cat</th>\n",
       "      <th>Income_cat</th>\n",
       "      <th>Miles_cat</th>\n",
       "    </tr>\n",
       "  </thead>\n",
       "  <tbody>\n",
       "    <tr>\n",
       "      <th>0</th>\n",
       "      <td>False</td>\n",
       "      <td>False</td>\n",
       "      <td>False</td>\n",
       "      <td>False</td>\n",
       "      <td>False</td>\n",
       "      <td>False</td>\n",
       "      <td>False</td>\n",
       "      <td>False</td>\n",
       "      <td>False</td>\n",
       "      <td>False</td>\n",
       "      <td>False</td>\n",
       "      <td>False</td>\n",
       "    </tr>\n",
       "    <tr>\n",
       "      <th>1</th>\n",
       "      <td>False</td>\n",
       "      <td>False</td>\n",
       "      <td>False</td>\n",
       "      <td>False</td>\n",
       "      <td>False</td>\n",
       "      <td>False</td>\n",
       "      <td>False</td>\n",
       "      <td>False</td>\n",
       "      <td>False</td>\n",
       "      <td>False</td>\n",
       "      <td>False</td>\n",
       "      <td>False</td>\n",
       "    </tr>\n",
       "    <tr>\n",
       "      <th>2</th>\n",
       "      <td>False</td>\n",
       "      <td>False</td>\n",
       "      <td>False</td>\n",
       "      <td>False</td>\n",
       "      <td>False</td>\n",
       "      <td>False</td>\n",
       "      <td>False</td>\n",
       "      <td>False</td>\n",
       "      <td>False</td>\n",
       "      <td>False</td>\n",
       "      <td>False</td>\n",
       "      <td>False</td>\n",
       "    </tr>\n",
       "    <tr>\n",
       "      <th>3</th>\n",
       "      <td>False</td>\n",
       "      <td>False</td>\n",
       "      <td>False</td>\n",
       "      <td>False</td>\n",
       "      <td>False</td>\n",
       "      <td>False</td>\n",
       "      <td>False</td>\n",
       "      <td>False</td>\n",
       "      <td>False</td>\n",
       "      <td>False</td>\n",
       "      <td>False</td>\n",
       "      <td>False</td>\n",
       "    </tr>\n",
       "    <tr>\n",
       "      <th>4</th>\n",
       "      <td>False</td>\n",
       "      <td>False</td>\n",
       "      <td>False</td>\n",
       "      <td>False</td>\n",
       "      <td>False</td>\n",
       "      <td>False</td>\n",
       "      <td>False</td>\n",
       "      <td>False</td>\n",
       "      <td>False</td>\n",
       "      <td>False</td>\n",
       "      <td>False</td>\n",
       "      <td>False</td>\n",
       "    </tr>\n",
       "    <tr>\n",
       "      <th>...</th>\n",
       "      <td>...</td>\n",
       "      <td>...</td>\n",
       "      <td>...</td>\n",
       "      <td>...</td>\n",
       "      <td>...</td>\n",
       "      <td>...</td>\n",
       "      <td>...</td>\n",
       "      <td>...</td>\n",
       "      <td>...</td>\n",
       "      <td>...</td>\n",
       "      <td>...</td>\n",
       "      <td>...</td>\n",
       "    </tr>\n",
       "    <tr>\n",
       "      <th>175</th>\n",
       "      <td>False</td>\n",
       "      <td>False</td>\n",
       "      <td>False</td>\n",
       "      <td>False</td>\n",
       "      <td>False</td>\n",
       "      <td>False</td>\n",
       "      <td>False</td>\n",
       "      <td>False</td>\n",
       "      <td>False</td>\n",
       "      <td>False</td>\n",
       "      <td>False</td>\n",
       "      <td>False</td>\n",
       "    </tr>\n",
       "    <tr>\n",
       "      <th>176</th>\n",
       "      <td>False</td>\n",
       "      <td>False</td>\n",
       "      <td>False</td>\n",
       "      <td>False</td>\n",
       "      <td>False</td>\n",
       "      <td>False</td>\n",
       "      <td>False</td>\n",
       "      <td>False</td>\n",
       "      <td>False</td>\n",
       "      <td>False</td>\n",
       "      <td>False</td>\n",
       "      <td>False</td>\n",
       "    </tr>\n",
       "    <tr>\n",
       "      <th>177</th>\n",
       "      <td>False</td>\n",
       "      <td>False</td>\n",
       "      <td>False</td>\n",
       "      <td>False</td>\n",
       "      <td>False</td>\n",
       "      <td>False</td>\n",
       "      <td>False</td>\n",
       "      <td>False</td>\n",
       "      <td>False</td>\n",
       "      <td>False</td>\n",
       "      <td>False</td>\n",
       "      <td>False</td>\n",
       "    </tr>\n",
       "    <tr>\n",
       "      <th>178</th>\n",
       "      <td>False</td>\n",
       "      <td>False</td>\n",
       "      <td>False</td>\n",
       "      <td>False</td>\n",
       "      <td>False</td>\n",
       "      <td>False</td>\n",
       "      <td>False</td>\n",
       "      <td>False</td>\n",
       "      <td>False</td>\n",
       "      <td>False</td>\n",
       "      <td>False</td>\n",
       "      <td>False</td>\n",
       "    </tr>\n",
       "    <tr>\n",
       "      <th>179</th>\n",
       "      <td>False</td>\n",
       "      <td>False</td>\n",
       "      <td>False</td>\n",
       "      <td>False</td>\n",
       "      <td>False</td>\n",
       "      <td>False</td>\n",
       "      <td>False</td>\n",
       "      <td>False</td>\n",
       "      <td>False</td>\n",
       "      <td>False</td>\n",
       "      <td>False</td>\n",
       "      <td>False</td>\n",
       "    </tr>\n",
       "  </tbody>\n",
       "</table>\n",
       "<p>180 rows × 12 columns</p>\n",
       "</div>"
      ],
      "text/plain": [
       "     Product    Age  Gender  Education  MaritalStatus  Usage  Fitness  Income  \\\n",
       "0      False  False   False      False          False  False    False   False   \n",
       "1      False  False   False      False          False  False    False   False   \n",
       "2      False  False   False      False          False  False    False   False   \n",
       "3      False  False   False      False          False  False    False   False   \n",
       "4      False  False   False      False          False  False    False   False   \n",
       "..       ...    ...     ...        ...            ...    ...      ...     ...   \n",
       "175    False  False   False      False          False  False    False   False   \n",
       "176    False  False   False      False          False  False    False   False   \n",
       "177    False  False   False      False          False  False    False   False   \n",
       "178    False  False   False      False          False  False    False   False   \n",
       "179    False  False   False      False          False  False    False   False   \n",
       "\n",
       "     Miles  Age_cat  Income_cat  Miles_cat  \n",
       "0    False    False       False      False  \n",
       "1    False    False       False      False  \n",
       "2    False    False       False      False  \n",
       "3    False    False       False      False  \n",
       "4    False    False       False      False  \n",
       "..     ...      ...         ...        ...  \n",
       "175  False    False       False      False  \n",
       "176  False    False       False      False  \n",
       "177  False    False       False      False  \n",
       "178  False    False       False      False  \n",
       "179  False    False       False      False  \n",
       "\n",
       "[180 rows x 12 columns]"
      ]
     },
     "execution_count": 14,
     "metadata": {},
     "output_type": "execute_result"
    }
   ],
   "source": [
    "df.isna()"
   ]
  },
  {
   "cell_type": "code",
   "execution_count": 15,
   "id": "a4814a7d",
   "metadata": {},
   "outputs": [
    {
     "name": "stdout",
     "output_type": "stream",
     "text": [
      "Number of missing values in each column:\n",
      "Product          0\n",
      "Age              0\n",
      "Gender           0\n",
      "Education        0\n",
      "MaritalStatus    0\n",
      "Usage            0\n",
      "Fitness          0\n",
      "Income           0\n",
      "Miles            0\n",
      "Age_cat          0\n",
      "Income_cat       0\n",
      "Miles_cat        0\n",
      "dtype: int64\n"
     ]
    }
   ],
   "source": [
    "# checking missing values\n",
    "missing_values =df.isnull().sum()\n",
    "\n",
    "print(\"Number of missing values in each column:\")\n",
    "print(missing_values)"
   ]
  },
  {
   "cell_type": "markdown",
   "id": "8b2c4680",
   "metadata": {},
   "source": [
    "### 2. Detect Outliers"
   ]
  },
  {
   "cell_type": "markdown",
   "id": "ff8d34c0",
   "metadata": {},
   "source": [
    "- Find the outliers for every continuous variable in the dataset"
   ]
  },
  {
   "cell_type": "code",
   "execution_count": 16,
   "id": "461451d5",
   "metadata": {},
   "outputs": [
    {
     "data": {
      "image/png": "[encoded data removed]",
      "text/plain": [
       "<Figure size 1200x600 with 1 Axes>"
      ]
     },
     "metadata": {},
     "output_type": "display_data"
    }
   ],
   "source": [
    "# Select only the continuous variables\n",
    "continuous_variables =df.select_dtypes(include=['int64', 'float64'])\n",
    "\n",
    "# Create boxplots for each continuous variable\n",
    "plt.figure(figsize=(12, 6))\n",
    "sns.boxplot(data=continuous_variables)\n",
    "plt.xticks(rotation=45)  # Rotate x-axis labels for better readability\n",
    "plt.title('Boxplot of Continuous Variables')\n",
    "plt.xlabel('Variables')\n",
    "plt.ylabel('Values')\n",
    "plt.show()"
   ]
  },
  {
   "cell_type": "code",
   "execution_count": 17,
   "id": "798faae5",
   "metadata": {
    "scrolled": true
   },
   "outputs": [
    {
     "name": "stderr",
     "output_type": "stream",
     "text": [
      "C:\\ProgramData\\Anaconda3\\lib\\site-packages\\seaborn\\_decorators.py:36: FutureWarning: Pass the following variable as a keyword arg: x. From version 0.12, the only valid positional argument will be `data`, and passing other arguments without an explicit keyword will result in an error or misinterpretation.\n",
      "  warnings.warn(\n"
     ]
    },
    {
     "data": {
      "image/png": "[encoded data removed]",
      "text/plain": [
       "<Figure size 500x300 with 1 Axes>"
      ]
     },
     "metadata": {},
     "output_type": "display_data"
    },
    {
     "name": "stderr",
     "output_type": "stream",
     "text": [
      "C:\\ProgramData\\Anaconda3\\lib\\site-packages\\seaborn\\_decorators.py:36: FutureWarning: Pass the following variable as a keyword arg: x. From version 0.12, the only valid positional argument will be `data`, and passing other arguments without an explicit keyword will result in an error or misinterpretation.\n",
      "  warnings.warn(\n"
     ]
    },
    {
     "data": {
      "image/png": "[encoded data removed]",
      "text/plain": [
       "<Figure size 500x300 with 1 Axes>"
      ]
     },
     "metadata": {},
     "output_type": "display_data"
    },
    {
     "name": "stderr",
     "output_type": "stream",
     "text": [
      "C:\\ProgramData\\Anaconda3\\lib\\site-packages\\seaborn\\_decorators.py:36: FutureWarning: Pass the following variable as a keyword arg: x. From version 0.12, the only valid positional argument will be `data`, and passing other arguments without an explicit keyword will result in an error or misinterpretation.\n",
      "  warnings.warn(\n"
     ]
    },
    {
     "data": {
      "image/png": "[encoded data removed]",
      "text/plain": [
       "<Figure size 500x300 with 1 Axes>"
      ]
     },
     "metadata": {},
     "output_type": "display_data"
    },
    {
     "name": "stderr",
     "output_type": "stream",
     "text": [
      "C:\\ProgramData\\Anaconda3\\lib\\site-packages\\seaborn\\_decorators.py:36: FutureWarning: Pass the following variable as a keyword arg: x. From version 0.12, the only valid positional argument will be `data`, and passing other arguments without an explicit keyword will result in an error or misinterpretation.\n",
      "  warnings.warn(\n"
     ]
    },
    {
     "data": {
      "image/png": "[encoded data removed]",
      "text/plain": [
       "<Figure size 500x300 with 1 Axes>"
      ]
     },
     "metadata": {},
     "output_type": "display_data"
    },
    {
     "name": "stderr",
     "output_type": "stream",
     "text": [
      "C:\\ProgramData\\Anaconda3\\lib\\site-packages\\seaborn\\_decorators.py:36: FutureWarning: Pass the following variable as a keyword arg: x. From version 0.12, the only valid positional argument will be `data`, and passing other arguments without an explicit keyword will result in an error or misinterpretation.\n",
      "  warnings.warn(\n"
     ]
    },
    {
     "data": {
      "image/png": "[encoded data removed]",
      "text/plain": [
       "<Figure size 500x300 with 1 Axes>"
      ]
     },
     "metadata": {},
     "output_type": "display_data"
    },
    {
     "name": "stderr",
     "output_type": "stream",
     "text": [
      "C:\\ProgramData\\Anaconda3\\lib\\site-packages\\seaborn\\_decorators.py:36: FutureWarning: Pass the following variable as a keyword arg: x. From version 0.12, the only valid positional argument will be `data`, and passing other arguments without an explicit keyword will result in an error or misinterpretation.\n",
      "  warnings.warn(\n"
     ]
    },
    {
     "data": {
      "image/png": "[encoded data removed]",
      "text/plain": [
       "<Figure size 500x300 with 1 Axes>"
      ]
     },
     "metadata": {},
     "output_type": "display_data"
    }
   ],
   "source": [
    "# Continuous variables\n",
    "continuous_vars = ['Age', 'Education', 'Usage', 'Fitness', 'Income', 'Miles']\n",
    "\n",
    "# Create boxplots for each continuous variable\n",
    "for var in continuous_vars:\n",
    "    plt.figure(figsize=(5,3))\n",
    "    sns.boxplot(df[var])\n",
    "    plt.title(f'Boxplot of {var}')\n",
    "    plt.show()"
   ]
  },
  {
   "cell_type": "code",
   "execution_count": 18,
   "id": "010f8a89",
   "metadata": {},
   "outputs": [
    {
     "data": {
      "text/html": [
       "<div>\n",
       "<style scoped>\n",
       "    .dataframe tbody tr th:only-of-type {\n",
       "        vertical-align: middle;\n",
       "    }\n",
       "\n",
       "    .dataframe tbody tr th {\n",
       "        vertical-align: top;\n",
       "    }\n",
       "\n",
       "    .dataframe thead th {\n",
       "        text-align: right;\n",
       "    }\n",
       "</style>\n",
       "<table border=\"1\" class=\"dataframe\">\n",
       "  <thead>\n",
       "    <tr style=\"text-align: right;\">\n",
       "      <th></th>\n",
       "      <th>Product</th>\n",
       "      <th>Age</th>\n",
       "      <th>Gender</th>\n",
       "      <th>Education</th>\n",
       "      <th>MaritalStatus</th>\n",
       "      <th>Usage</th>\n",
       "      <th>Fitness</th>\n",
       "      <th>Income</th>\n",
       "      <th>Miles</th>\n",
       "      <th>Age_cat</th>\n",
       "      <th>Income_cat</th>\n",
       "      <th>Miles_cat</th>\n",
       "    </tr>\n",
       "  </thead>\n",
       "  <tbody>\n",
       "    <tr>\n",
       "      <th>0</th>\n",
       "      <td>KP281</td>\n",
       "      <td>18</td>\n",
       "      <td>Male</td>\n",
       "      <td>14</td>\n",
       "      <td>Single</td>\n",
       "      <td>3</td>\n",
       "      <td>4</td>\n",
       "      <td>29562</td>\n",
       "      <td>112</td>\n",
       "      <td>Young</td>\n",
       "      <td>29000-50000</td>\n",
       "      <td>100-200</td>\n",
       "    </tr>\n",
       "    <tr>\n",
       "      <th>1</th>\n",
       "      <td>KP281</td>\n",
       "      <td>19</td>\n",
       "      <td>Male</td>\n",
       "      <td>15</td>\n",
       "      <td>Single</td>\n",
       "      <td>2</td>\n",
       "      <td>3</td>\n",
       "      <td>31836</td>\n",
       "      <td>75</td>\n",
       "      <td>Young</td>\n",
       "      <td>29000-50000</td>\n",
       "      <td>1-100</td>\n",
       "    </tr>\n",
       "    <tr>\n",
       "      <th>2</th>\n",
       "      <td>KP281</td>\n",
       "      <td>19</td>\n",
       "      <td>Female</td>\n",
       "      <td>14</td>\n",
       "      <td>Partnered</td>\n",
       "      <td>4</td>\n",
       "      <td>3</td>\n",
       "      <td>30699</td>\n",
       "      <td>66</td>\n",
       "      <td>Young</td>\n",
       "      <td>29000-50000</td>\n",
       "      <td>1-100</td>\n",
       "    </tr>\n",
       "    <tr>\n",
       "      <th>3</th>\n",
       "      <td>KP281</td>\n",
       "      <td>19</td>\n",
       "      <td>Male</td>\n",
       "      <td>12</td>\n",
       "      <td>Single</td>\n",
       "      <td>3</td>\n",
       "      <td>3</td>\n",
       "      <td>32973</td>\n",
       "      <td>85</td>\n",
       "      <td>Young</td>\n",
       "      <td>29000-50000</td>\n",
       "      <td>1-100</td>\n",
       "    </tr>\n",
       "    <tr>\n",
       "      <th>4</th>\n",
       "      <td>KP281</td>\n",
       "      <td>20</td>\n",
       "      <td>Male</td>\n",
       "      <td>13</td>\n",
       "      <td>Partnered</td>\n",
       "      <td>4</td>\n",
       "      <td>2</td>\n",
       "      <td>35247</td>\n",
       "      <td>47</td>\n",
       "      <td>Young</td>\n",
       "      <td>29000-50000</td>\n",
       "      <td>1-100</td>\n",
       "    </tr>\n",
       "  </tbody>\n",
       "</table>\n",
       "</div>"
      ],
      "text/plain": [
       "  Product  Age  Gender  Education MaritalStatus  Usage  Fitness  Income  \\\n",
       "0   KP281   18    Male         14        Single      3        4   29562   \n",
       "1   KP281   19    Male         15        Single      2        3   31836   \n",
       "2   KP281   19  Female         14     Partnered      4        3   30699   \n",
       "3   KP281   19    Male         12        Single      3        3   32973   \n",
       "4   KP281   20    Male         13     Partnered      4        2   35247   \n",
       "\n",
       "   Miles Age_cat   Income_cat Miles_cat  \n",
       "0    112   Young  29000-50000   100-200  \n",
       "1     75   Young  29000-50000     1-100  \n",
       "2     66   Young  29000-50000     1-100  \n",
       "3     85   Young  29000-50000     1-100  \n",
       "4     47   Young  29000-50000     1-100  "
      ]
     },
     "execution_count": 18,
     "metadata": {},
     "output_type": "execute_result"
    }
   ],
   "source": [
    "df.head()"
   ]
  },
  {
   "cell_type": "markdown",
   "id": "d687add2",
   "metadata": {},
   "source": [
    "-  Remove/clip the data between the 5 percentile and 95 percentile"
   ]
  },
  {
   "cell_type": "code",
   "execution_count": 19,
   "id": "03c78d6d",
   "metadata": {},
   "outputs": [
    {
     "name": "stdout",
     "output_type": "stream",
     "text": [
      "Clipped Data:\n"
     ]
    },
    {
     "data": {
      "text/html": [
       "<div>\n",
       "<style scoped>\n",
       "    .dataframe tbody tr th:only-of-type {\n",
       "        vertical-align: middle;\n",
       "    }\n",
       "\n",
       "    .dataframe tbody tr th {\n",
       "        vertical-align: top;\n",
       "    }\n",
       "\n",
       "    .dataframe thead th {\n",
       "        text-align: right;\n",
       "    }\n",
       "</style>\n",
       "<table border=\"1\" class=\"dataframe\">\n",
       "  <thead>\n",
       "    <tr style=\"text-align: right;\">\n",
       "      <th></th>\n",
       "      <th>Age</th>\n",
       "      <th>Education</th>\n",
       "      <th>Usage</th>\n",
       "      <th>Fitness</th>\n",
       "      <th>Income</th>\n",
       "      <th>Miles</th>\n",
       "    </tr>\n",
       "  </thead>\n",
       "  <tbody>\n",
       "    <tr>\n",
       "      <th>0</th>\n",
       "      <td>20.00</td>\n",
       "      <td>14.0</td>\n",
       "      <td>3.00</td>\n",
       "      <td>4.0</td>\n",
       "      <td>34053.15</td>\n",
       "      <td>112.0</td>\n",
       "    </tr>\n",
       "    <tr>\n",
       "      <th>1</th>\n",
       "      <td>20.00</td>\n",
       "      <td>15.0</td>\n",
       "      <td>2.00</td>\n",
       "      <td>3.0</td>\n",
       "      <td>34053.15</td>\n",
       "      <td>75.0</td>\n",
       "    </tr>\n",
       "    <tr>\n",
       "      <th>2</th>\n",
       "      <td>20.00</td>\n",
       "      <td>14.0</td>\n",
       "      <td>4.00</td>\n",
       "      <td>3.0</td>\n",
       "      <td>34053.15</td>\n",
       "      <td>66.0</td>\n",
       "    </tr>\n",
       "    <tr>\n",
       "      <th>3</th>\n",
       "      <td>20.00</td>\n",
       "      <td>14.0</td>\n",
       "      <td>3.00</td>\n",
       "      <td>3.0</td>\n",
       "      <td>34053.15</td>\n",
       "      <td>85.0</td>\n",
       "    </tr>\n",
       "    <tr>\n",
       "      <th>4</th>\n",
       "      <td>20.00</td>\n",
       "      <td>14.0</td>\n",
       "      <td>4.00</td>\n",
       "      <td>2.0</td>\n",
       "      <td>35247.00</td>\n",
       "      <td>47.0</td>\n",
       "    </tr>\n",
       "    <tr>\n",
       "      <th>...</th>\n",
       "      <td>...</td>\n",
       "      <td>...</td>\n",
       "      <td>...</td>\n",
       "      <td>...</td>\n",
       "      <td>...</td>\n",
       "      <td>...</td>\n",
       "    </tr>\n",
       "    <tr>\n",
       "      <th>175</th>\n",
       "      <td>40.00</td>\n",
       "      <td>18.0</td>\n",
       "      <td>5.05</td>\n",
       "      <td>5.0</td>\n",
       "      <td>83416.00</td>\n",
       "      <td>200.0</td>\n",
       "    </tr>\n",
       "    <tr>\n",
       "      <th>176</th>\n",
       "      <td>42.00</td>\n",
       "      <td>18.0</td>\n",
       "      <td>5.00</td>\n",
       "      <td>4.0</td>\n",
       "      <td>89641.00</td>\n",
       "      <td>200.0</td>\n",
       "    </tr>\n",
       "    <tr>\n",
       "      <th>177</th>\n",
       "      <td>43.05</td>\n",
       "      <td>16.0</td>\n",
       "      <td>5.00</td>\n",
       "      <td>5.0</td>\n",
       "      <td>90886.00</td>\n",
       "      <td>160.0</td>\n",
       "    </tr>\n",
       "    <tr>\n",
       "      <th>178</th>\n",
       "      <td>43.05</td>\n",
       "      <td>18.0</td>\n",
       "      <td>4.00</td>\n",
       "      <td>5.0</td>\n",
       "      <td>90948.25</td>\n",
       "      <td>120.0</td>\n",
       "    </tr>\n",
       "    <tr>\n",
       "      <th>179</th>\n",
       "      <td>43.05</td>\n",
       "      <td>18.0</td>\n",
       "      <td>4.00</td>\n",
       "      <td>5.0</td>\n",
       "      <td>90948.25</td>\n",
       "      <td>180.0</td>\n",
       "    </tr>\n",
       "  </tbody>\n",
       "</table>\n",
       "<p>180 rows × 6 columns</p>\n",
       "</div>"
      ],
      "text/plain": [
       "       Age  Education  Usage  Fitness    Income  Miles\n",
       "0    20.00       14.0   3.00      4.0  34053.15  112.0\n",
       "1    20.00       15.0   2.00      3.0  34053.15   75.0\n",
       "2    20.00       14.0   4.00      3.0  34053.15   66.0\n",
       "3    20.00       14.0   3.00      3.0  34053.15   85.0\n",
       "4    20.00       14.0   4.00      2.0  35247.00   47.0\n",
       "..     ...        ...    ...      ...       ...    ...\n",
       "175  40.00       18.0   5.05      5.0  83416.00  200.0\n",
       "176  42.00       18.0   5.00      4.0  89641.00  200.0\n",
       "177  43.05       16.0   5.00      5.0  90886.00  160.0\n",
       "178  43.05       18.0   4.00      5.0  90948.25  120.0\n",
       "179  43.05       18.0   4.00      5.0  90948.25  180.0\n",
       "\n",
       "[180 rows x 6 columns]"
      ]
     },
     "execution_count": 19,
     "metadata": {},
     "output_type": "execute_result"
    }
   ],
   "source": [
    "# Select only the continuous variables\n",
    "continuous_variables = df.select_dtypes(include=['int64', 'float64'])\n",
    "\n",
    "# Calculate the 5th and 95th percentiles for each column\n",
    "percentile_5 = continuous_variables.quantile(0.05)\n",
    "percentile_95 = continuous_variables.quantile(0.95)\n",
    "\n",
    "# Clip the data between the 5th and 95th percentiles\n",
    "clipped_data=continuous_variables.apply(lambda x:np.clip(x,percentile_5[x.name],percentile_95[x.name]))\n",
    "\n",
    "# Display the clipped data\n",
    "print(\"Clipped Data:\")\n",
    "clipped_data"
   ]
  },
  {
   "cell_type": "markdown",
   "id": "4d0f296a",
   "metadata": {},
   "source": [
    "### 3. Check if features like marital status, Gender, and age have any effect on the product purchased"
   ]
  },
  {
   "cell_type": "markdown",
   "id": "03c4ff3b",
   "metadata": {},
   "source": [
    "-  Find if there is any relationship between the categorical variables and the output variable in the data."
   ]
  },
  {
   "cell_type": "code",
   "execution_count": 20,
   "id": "e4a6f0c9",
   "metadata": {},
   "outputs": [
    {
     "data": {
      "image/png": "[encoded data removed]",
      "text/plain": [
       "<Figure size 500x300 with 1 Axes>"
      ]
     },
     "metadata": {},
     "output_type": "display_data"
    },
    {
     "data": {
      "image/png": "[encoded data removed]",
      "text/plain": [
       "<Figure size 500x300 with 1 Axes>"
      ]
     },
     "metadata": {},
     "output_type": "display_data"
    },
    {
     "data": {
      "image/png": "[encoded data removed]",
      "text/plain": [
       "<Figure size 500x300 with 1 Axes>"
      ]
     },
     "metadata": {},
     "output_type": "display_data"
    }
   ],
   "source": [
    "# Plotting the relationship between Marital Status and Product Purchased\n",
    "plt.figure(figsize=(5,3))\n",
    "sns.countplot(x='MaritalStatus', hue='Product', data=df)\n",
    "plt.title('Product Purchased by Marital Status')\n",
    "plt.xlabel('Marital Status')\n",
    "plt.ylabel('Count')\n",
    "plt.legend(title='Product Purchased')\n",
    "plt.show()\n",
    "\n",
    "# Plotting the relationship between Gender and Product Purchased\n",
    "plt.figure(figsize=(5,3))\n",
    "sns.countplot(x='Gender', hue='Product', data=df)\n",
    "plt.title('Product Purchased by Gender')\n",
    "plt.xlabel('Gender')\n",
    "plt.ylabel('Count')\n",
    "plt.legend(title='Product Purchased')\n",
    "plt.show()\n",
    "\n",
    "# Plotting the relationship between Age (assuming it's a categorical variable) and Product Purchased\n",
    "plt.figure(figsize=(5,3))\n",
    "sns.countplot(x='Age', hue='Product', data=df)\n",
    "plt.title('Product Purchased by Age')\n",
    "plt.xlabel('Age')\n",
    "plt.ylabel('Count')\n",
    "plt.legend(title='Product Purchased')\n",
    "plt.xticks(rotation=45)  # Rotate x-axis labels for better readability\n",
    "plt.show()"
   ]
  },
  {
   "cell_type": "markdown",
   "id": "d1774ef4",
   "metadata": {},
   "source": [
    "-  Find if there is any relationship between the continuous variables and the output\n",
    "variable in the data."
   ]
  },
  {
   "cell_type": "code",
   "execution_count": 21,
   "id": "85fcaba3",
   "metadata": {},
   "outputs": [
    {
     "data": {
      "text/html": [
       "<div>\n",
       "<style scoped>\n",
       "    .dataframe tbody tr th:only-of-type {\n",
       "        vertical-align: middle;\n",
       "    }\n",
       "\n",
       "    .dataframe tbody tr th {\n",
       "        vertical-align: top;\n",
       "    }\n",
       "\n",
       "    .dataframe thead th {\n",
       "        text-align: right;\n",
       "    }\n",
       "</style>\n",
       "<table border=\"1\" class=\"dataframe\">\n",
       "  <thead>\n",
       "    <tr style=\"text-align: right;\">\n",
       "      <th></th>\n",
       "      <th>Product</th>\n",
       "      <th>Age</th>\n",
       "      <th>Gender</th>\n",
       "      <th>Education</th>\n",
       "      <th>MaritalStatus</th>\n",
       "      <th>Usage</th>\n",
       "      <th>Fitness</th>\n",
       "      <th>Income</th>\n",
       "      <th>Miles</th>\n",
       "      <th>Age_cat</th>\n",
       "      <th>Income_cat</th>\n",
       "      <th>Miles_cat</th>\n",
       "    </tr>\n",
       "  </thead>\n",
       "  <tbody>\n",
       "    <tr>\n",
       "      <th>0</th>\n",
       "      <td>KP281</td>\n",
       "      <td>18</td>\n",
       "      <td>Male</td>\n",
       "      <td>14</td>\n",
       "      <td>Single</td>\n",
       "      <td>3</td>\n",
       "      <td>4</td>\n",
       "      <td>29562</td>\n",
       "      <td>112</td>\n",
       "      <td>Young</td>\n",
       "      <td>29000-50000</td>\n",
       "      <td>100-200</td>\n",
       "    </tr>\n",
       "    <tr>\n",
       "      <th>1</th>\n",
       "      <td>KP281</td>\n",
       "      <td>19</td>\n",
       "      <td>Male</td>\n",
       "      <td>15</td>\n",
       "      <td>Single</td>\n",
       "      <td>2</td>\n",
       "      <td>3</td>\n",
       "      <td>31836</td>\n",
       "      <td>75</td>\n",
       "      <td>Young</td>\n",
       "      <td>29000-50000</td>\n",
       "      <td>1-100</td>\n",
       "    </tr>\n",
       "    <tr>\n",
       "      <th>2</th>\n",
       "      <td>KP281</td>\n",
       "      <td>19</td>\n",
       "      <td>Female</td>\n",
       "      <td>14</td>\n",
       "      <td>Partnered</td>\n",
       "      <td>4</td>\n",
       "      <td>3</td>\n",
       "      <td>30699</td>\n",
       "      <td>66</td>\n",
       "      <td>Young</td>\n",
       "      <td>29000-50000</td>\n",
       "      <td>1-100</td>\n",
       "    </tr>\n",
       "    <tr>\n",
       "      <th>3</th>\n",
       "      <td>KP281</td>\n",
       "      <td>19</td>\n",
       "      <td>Male</td>\n",
       "      <td>12</td>\n",
       "      <td>Single</td>\n",
       "      <td>3</td>\n",
       "      <td>3</td>\n",
       "      <td>32973</td>\n",
       "      <td>85</td>\n",
       "      <td>Young</td>\n",
       "      <td>29000-50000</td>\n",
       "      <td>1-100</td>\n",
       "    </tr>\n",
       "    <tr>\n",
       "      <th>4</th>\n",
       "      <td>KP281</td>\n",
       "      <td>20</td>\n",
       "      <td>Male</td>\n",
       "      <td>13</td>\n",
       "      <td>Partnered</td>\n",
       "      <td>4</td>\n",
       "      <td>2</td>\n",
       "      <td>35247</td>\n",
       "      <td>47</td>\n",
       "      <td>Young</td>\n",
       "      <td>29000-50000</td>\n",
       "      <td>1-100</td>\n",
       "    </tr>\n",
       "  </tbody>\n",
       "</table>\n",
       "</div>"
      ],
      "text/plain": [
       "  Product  Age  Gender  Education MaritalStatus  Usage  Fitness  Income  \\\n",
       "0   KP281   18    Male         14        Single      3        4   29562   \n",
       "1   KP281   19    Male         15        Single      2        3   31836   \n",
       "2   KP281   19  Female         14     Partnered      4        3   30699   \n",
       "3   KP281   19    Male         12        Single      3        3   32973   \n",
       "4   KP281   20    Male         13     Partnered      4        2   35247   \n",
       "\n",
       "   Miles Age_cat   Income_cat Miles_cat  \n",
       "0    112   Young  29000-50000   100-200  \n",
       "1     75   Young  29000-50000     1-100  \n",
       "2     66   Young  29000-50000     1-100  \n",
       "3     85   Young  29000-50000     1-100  \n",
       "4     47   Young  29000-50000     1-100  "
      ]
     },
     "execution_count": 21,
     "metadata": {},
     "output_type": "execute_result"
    }
   ],
   "source": [
    "df.head()"
   ]
  },
  {
   "cell_type": "code",
   "execution_count": 22,
   "id": "6db1fcbf",
   "metadata": {
    "scrolled": false
   },
   "outputs": [
    {
     "data": {
      "image/png": "[encoded data removed]",
      "text/plain": [
       "<Figure size 500x300 with 1 Axes>"
      ]
     },
     "metadata": {},
     "output_type": "display_data"
    },
    {
     "data": {
      "image/png": "[encoded data removed]",
      "text/plain": [
       "<Figure size 500x300 with 1 Axes>"
      ]
     },
     "metadata": {},
     "output_type": "display_data"
    },
    {
     "data": {
      "image/png": "[encoded data removed]",
      "text/plain": [
       "<Figure size 500x300 with 1 Axes>"
      ]
     },
     "metadata": {},
     "output_type": "display_data"
    },
    {
     "data": {
      "image/png": "[encoded data removed]",
      "text/plain": [
       "<Figure size 500x300 with 1 Axes>"
      ]
     },
     "metadata": {},
     "output_type": "display_data"
    },
    {
     "data": {
      "image/png": "[encoded data removed]",
      "text/plain": [
       "<Figure size 500x300 with 1 Axes>"
      ]
     },
     "metadata": {},
     "output_type": "display_data"
    },
    {
     "data": {
      "image/png": "[encoded data removed]",
      "text/plain": [
       "<Figure size 500x300 with 1 Axes>"
      ]
     },
     "metadata": {},
     "output_type": "display_data"
    }
   ],
   "source": [
    "# Selecting only the continuous variables and 'Product Purchased'\n",
    "continuous_variables = df.select_dtypes(include=['int64', 'float64'])\n",
    "continuous_variables['Product'] = df['Product']\n",
    "\n",
    "# Plotting the relationship between each continuous variable and 'Product Purchased'\n",
    "for column in continuous_variables.columns[:-1]:\n",
    "    plt.figure(figsize=(5,3))\n",
    "    sns.scatterplot(x=column, y='Product', data=continuous_variables)\n",
    "    plt.title(f'Product Purchased vs {column}')\n",
    "    plt.xlabel(column)\n",
    "    plt.ylabel('Product Purchased')\n",
    "    plt.show()"
   ]
  },
  {
   "cell_type": "markdown",
   "id": "d7f1bb0f",
   "metadata": {},
   "source": [
    "### 4. Representing the Probability"
   ]
  },
  {
   "cell_type": "markdown",
   "id": "89fce35a",
   "metadata": {},
   "source": [
    "-  Find the marginal probability (what percent of customers have purchased KP281, KP481, or KP781)"
   ]
  },
  {
   "cell_type": "code",
   "execution_count": 23,
   "id": "1db48f93",
   "metadata": {},
   "outputs": [
    {
     "name": "stdout",
     "output_type": "stream",
     "text": [
      "Marginal probability of each product:\n"
     ]
    },
    {
     "data": {
      "text/html": [
       "<div>\n",
       "<style scoped>\n",
       "    .dataframe tbody tr th:only-of-type {\n",
       "        vertical-align: middle;\n",
       "    }\n",
       "\n",
       "    .dataframe tbody tr th {\n",
       "        vertical-align: top;\n",
       "    }\n",
       "\n",
       "    .dataframe thead th {\n",
       "        text-align: right;\n",
       "    }\n",
       "</style>\n",
       "<table border=\"1\" class=\"dataframe\">\n",
       "  <thead>\n",
       "    <tr style=\"text-align: right;\">\n",
       "      <th>col_0</th>\n",
       "      <th>count</th>\n",
       "      <th>All</th>\n",
       "    </tr>\n",
       "    <tr>\n",
       "      <th>Product</th>\n",
       "      <th></th>\n",
       "      <th></th>\n",
       "    </tr>\n",
       "  </thead>\n",
       "  <tbody>\n",
       "    <tr>\n",
       "      <th>KP281</th>\n",
       "      <td>0.444444</td>\n",
       "      <td>0.444444</td>\n",
       "    </tr>\n",
       "    <tr>\n",
       "      <th>KP481</th>\n",
       "      <td>0.333333</td>\n",
       "      <td>0.333333</td>\n",
       "    </tr>\n",
       "    <tr>\n",
       "      <th>KP781</th>\n",
       "      <td>0.222222</td>\n",
       "      <td>0.222222</td>\n",
       "    </tr>\n",
       "    <tr>\n",
       "      <th>All</th>\n",
       "      <td>1.000000</td>\n",
       "      <td>1.000000</td>\n",
       "    </tr>\n",
       "  </tbody>\n",
       "</table>\n",
       "</div>"
      ],
      "text/plain": [
       "col_0       count       All\n",
       "Product                    \n",
       "KP281    0.444444  0.444444\n",
       "KP481    0.333333  0.333333\n",
       "KP781    0.222222  0.222222\n",
       "All      1.000000  1.000000"
      ]
     },
     "execution_count": 23,
     "metadata": {},
     "output_type": "execute_result"
    }
   ],
   "source": [
    "# Calculate the marginal probability using crosstab\n",
    "marginal_prob = pd.crosstab(index=df['Product'], columns='count', margins=True ,normalize=True)\n",
    "\n",
    "print(\"Marginal probability of each product:\")\n",
    "marginal_prob"
   ]
  },
  {
   "cell_type": "markdown",
   "id": "113b87ba",
   "metadata": {},
   "source": [
    "- Find the probability that the customer buys a product based on each column.\n"
   ]
  },
  {
   "cell_type": "code",
   "execution_count": 24,
   "id": "b01f0cd0",
   "metadata": {},
   "outputs": [
    {
     "name": "stdout",
     "output_type": "stream",
     "text": [
      "Probability that the customer buys a product based on each column:\n",
      "Age:\n",
      "Age            18        19        20        21        22        23        24  \\\n",
      "Product                                                                         \n",
      "KP281    0.005556  0.016667  0.011111  0.022222  0.022222  0.044444  0.027778   \n",
      "KP481    0.000000  0.005556  0.016667  0.016667  0.000000  0.038889  0.016667   \n",
      "KP781    0.000000  0.000000  0.000000  0.000000  0.016667  0.016667  0.022222   \n",
      "\n",
      "Age            25        26        27  ...        40        41        42  \\\n",
      "Product                                ...                                 \n",
      "KP281    0.038889  0.038889  0.016667  ...  0.005556  0.005556  0.000000   \n",
      "KP481    0.061111  0.016667  0.005556  ...  0.016667  0.000000  0.000000   \n",
      "KP781    0.038889  0.011111  0.016667  ...  0.005556  0.000000  0.005556   \n",
      "\n",
      "Age            43        44        45        46        47        48        50  \n",
      "Product                                                                        \n",
      "KP281    0.005556  0.005556  0.000000  0.005556  0.005556  0.000000  0.005556  \n",
      "KP481    0.000000  0.000000  0.005556  0.000000  0.000000  0.005556  0.000000  \n",
      "KP781    0.000000  0.000000  0.005556  0.000000  0.005556  0.005556  0.000000  \n",
      "\n",
      "[3 rows x 32 columns]\n",
      "\n",
      "Gender:\n",
      "Gender     Female      Male\n",
      "Product                    \n",
      "KP281    0.222222  0.222222\n",
      "KP481    0.161111  0.172222\n",
      "KP781    0.038889  0.183333\n",
      "\n",
      "Education:\n",
      "Education        12        13        14        15        16        18  \\\n",
      "Product                                                                 \n",
      "KP281      0.011111  0.016667  0.166667  0.022222  0.216667  0.011111   \n",
      "KP481      0.005556  0.011111  0.127778  0.005556  0.172222  0.011111   \n",
      "KP781      0.000000  0.000000  0.011111  0.000000  0.083333  0.105556   \n",
      "\n",
      "Education        20        21  \n",
      "Product                        \n",
      "KP281      0.000000  0.000000  \n",
      "KP481      0.000000  0.000000  \n",
      "KP781      0.005556  0.016667  \n",
      "\n",
      "MaritalStatus:\n",
      "MaritalStatus  Partnered    Single\n",
      "Product                           \n",
      "KP281           0.266667  0.177778\n",
      "KP481           0.200000  0.133333\n",
      "KP781           0.127778  0.094444\n",
      "\n",
      "Usage:\n",
      "Usage           2         3         4         5         6         7\n",
      "Product                                                            \n",
      "KP281    0.105556  0.205556  0.122222  0.011111  0.000000  0.000000\n",
      "KP481    0.077778  0.172222  0.066667  0.016667  0.000000  0.000000\n",
      "KP781    0.000000  0.005556  0.100000  0.066667  0.038889  0.011111\n",
      "\n",
      "Fitness:\n",
      "Fitness         1         2         3         4         5\n",
      "Product                                                  \n",
      "KP281    0.005556  0.077778  0.300000  0.050000  0.011111\n",
      "KP481    0.005556  0.066667  0.216667  0.044444  0.000000\n",
      "KP781    0.000000  0.000000  0.022222  0.038889  0.161111\n",
      "\n",
      "Income:\n",
      "Income     29562     30699     31836     32973     34110     35247     36384   \\\n",
      "Product                                                                         \n",
      "KP281    0.005556  0.005556  0.005556  0.016667  0.011111  0.027778  0.016667   \n",
      "KP481    0.000000  0.000000  0.005556  0.011111  0.016667  0.000000  0.005556   \n",
      "KP781    0.000000  0.000000  0.000000  0.000000  0.000000  0.000000  0.000000   \n",
      "\n",
      "Income     37521     38658     39795   ...    85906     88396     89641   \\\n",
      "Product                                ...                                 \n",
      "KP281    0.011111  0.016667  0.011111  ...  0.000000  0.000000  0.000000   \n",
      "KP481    0.000000  0.011111  0.000000  ...  0.000000  0.000000  0.000000   \n",
      "KP781    0.000000  0.000000  0.000000  ...  0.005556  0.011111  0.011111   \n",
      "\n",
      "Income     90886     92131     95508     95866     99601     103336    104581  \n",
      "Product                                                                        \n",
      "KP281    0.000000  0.000000  0.000000  0.000000  0.000000  0.000000  0.000000  \n",
      "KP481    0.000000  0.000000  0.000000  0.000000  0.000000  0.000000  0.000000  \n",
      "KP781    0.016667  0.016667  0.005556  0.005556  0.005556  0.005556  0.011111  \n",
      "\n",
      "[3 rows x 62 columns]\n",
      "\n",
      "Miles:\n",
      "Miles         21        38        42    47        53        56        64   \\\n",
      "Product                                                                     \n",
      "KP281    0.000000  0.016667  0.000000  0.05  0.000000  0.033333  0.000000   \n",
      "KP481    0.005556  0.000000  0.022222  0.00  0.038889  0.000000  0.033333   \n",
      "KP781    0.000000  0.000000  0.000000  0.00  0.000000  0.000000  0.000000   \n",
      "\n",
      "Miles         66        74        75   ...       170       180       188  \\\n",
      "Product                                ...                                 \n",
      "KP281    0.055556  0.000000  0.055556  ...  0.000000  0.000000  0.005556   \n",
      "KP481    0.000000  0.016667  0.000000  ...  0.011111  0.000000  0.000000   \n",
      "KP781    0.000000  0.000000  0.000000  ...  0.005556  0.033333  0.000000   \n",
      "\n",
      "Miles         200       212       240       260       280       300       360  \n",
      "Product                                                                        \n",
      "KP281    0.000000  0.000000  0.000000  0.000000  0.000000  0.000000  0.000000  \n",
      "KP481    0.000000  0.005556  0.000000  0.000000  0.000000  0.000000  0.000000  \n",
      "KP781    0.033333  0.000000  0.005556  0.005556  0.005556  0.005556  0.005556  \n",
      "\n",
      "[3 rows x 37 columns]\n",
      "\n",
      "Age_cat:\n",
      "Age_cat     Young       Mid       Old\n",
      "Product                              \n",
      "KP281    0.305556  0.105556  0.033333\n",
      "KP481    0.194444  0.127778  0.011111\n",
      "KP781    0.166667  0.033333  0.022222\n",
      "\n",
      "Income_cat:\n",
      "Income_cat  29000-50000  50000-70000  70000-90000  90000-110000\n",
      "Product                                                        \n",
      "KP281          0.266667     0.177778     0.000000      0.000000\n",
      "KP481          0.166667     0.166667     0.000000      0.000000\n",
      "KP781          0.027778     0.066667     0.061111      0.066667\n",
      "\n",
      "Miles_cat:\n",
      "Miles_cat     1-100   100-200   200-300   300-400\n",
      "Product                                          \n",
      "KP281      0.344444  0.100000  0.000000  0.000000\n",
      "KP481      0.244444  0.083333  0.005556  0.000000\n",
      "KP781      0.044444  0.150000  0.022222  0.005556\n",
      "\n"
     ]
    }
   ],
   "source": [
    "# Calculate the probability of buying a product based on each column\n",
    "probabilities = {}\n",
    "\n",
    "for column in df.columns:\n",
    "    if column != 'Product':\n",
    "        probabilities[column] = pd.crosstab(index=df['Product'], columns=df[column], normalize=True)\n",
    "\n",
    "print(\"Probability that the customer buys a product based on each column:\")\n",
    "for column, prob in probabilities.items():\n",
    "    print(column + \":\")\n",
    "    print(prob)\n",
    "    print()"
   ]
  },
  {
   "cell_type": "code",
   "execution_count": 25,
   "id": "2def7981",
   "metadata": {},
   "outputs": [
    {
     "data": {
      "text/html": [
       "<div>\n",
       "<style scoped>\n",
       "    .dataframe tbody tr th:only-of-type {\n",
       "        vertical-align: middle;\n",
       "    }\n",
       "\n",
       "    .dataframe tbody tr th {\n",
       "        vertical-align: top;\n",
       "    }\n",
       "\n",
       "    .dataframe thead th {\n",
       "        text-align: right;\n",
       "    }\n",
       "</style>\n",
       "<table border=\"1\" class=\"dataframe\">\n",
       "  <thead>\n",
       "    <tr style=\"text-align: right;\">\n",
       "      <th>Gender</th>\n",
       "      <th>Female</th>\n",
       "      <th>Male</th>\n",
       "      <th>All</th>\n",
       "    </tr>\n",
       "    <tr>\n",
       "      <th>Product</th>\n",
       "      <th></th>\n",
       "      <th></th>\n",
       "      <th></th>\n",
       "    </tr>\n",
       "  </thead>\n",
       "  <tbody>\n",
       "    <tr>\n",
       "      <th>KP281</th>\n",
       "      <td>22.22</td>\n",
       "      <td>22.22</td>\n",
       "      <td>44.44</td>\n",
       "    </tr>\n",
       "    <tr>\n",
       "      <th>KP481</th>\n",
       "      <td>16.11</td>\n",
       "      <td>17.22</td>\n",
       "      <td>33.33</td>\n",
       "    </tr>\n",
       "    <tr>\n",
       "      <th>KP781</th>\n",
       "      <td>3.89</td>\n",
       "      <td>18.33</td>\n",
       "      <td>22.22</td>\n",
       "    </tr>\n",
       "    <tr>\n",
       "      <th>All</th>\n",
       "      <td>42.22</td>\n",
       "      <td>57.78</td>\n",
       "      <td>100.00</td>\n",
       "    </tr>\n",
       "  </tbody>\n",
       "</table>\n",
       "</div>"
      ],
      "text/plain": [
       "Gender   Female   Male     All\n",
       "Product                       \n",
       "KP281     22.22  22.22   44.44\n",
       "KP481     16.11  17.22   33.33\n",
       "KP781      3.89  18.33   22.22\n",
       "All       42.22  57.78  100.00"
      ]
     },
     "execution_count": 25,
     "metadata": {},
     "output_type": "execute_result"
    }
   ],
   "source": [
    "# conditional probability that an event 'Product' occurs given that another event 'Gender' has occurred\n",
    "\n",
    "((pd.crosstab(index =df['Product'],columns = df['Gender'],margins = True,normalize = True\n",
    "))*100).round(2)"
   ]
  },
  {
   "cell_type": "code",
   "execution_count": 26,
   "id": "47aba982",
   "metadata": {},
   "outputs": [
    {
     "data": {
      "text/html": [
       "<div>\n",
       "<style scoped>\n",
       "    .dataframe tbody tr th:only-of-type {\n",
       "        vertical-align: middle;\n",
       "    }\n",
       "\n",
       "    .dataframe tbody tr th {\n",
       "        vertical-align: top;\n",
       "    }\n",
       "\n",
       "    .dataframe thead th {\n",
       "        text-align: right;\n",
       "    }\n",
       "</style>\n",
       "<table border=\"1\" class=\"dataframe\">\n",
       "  <thead>\n",
       "    <tr style=\"text-align: right;\">\n",
       "      <th>Age_cat</th>\n",
       "      <th>Young</th>\n",
       "      <th>Mid</th>\n",
       "      <th>Old</th>\n",
       "      <th>All</th>\n",
       "    </tr>\n",
       "    <tr>\n",
       "      <th>Product</th>\n",
       "      <th></th>\n",
       "      <th></th>\n",
       "      <th></th>\n",
       "      <th></th>\n",
       "    </tr>\n",
       "  </thead>\n",
       "  <tbody>\n",
       "    <tr>\n",
       "      <th>KP281</th>\n",
       "      <td>30.56</td>\n",
       "      <td>10.56</td>\n",
       "      <td>3.33</td>\n",
       "      <td>44.44</td>\n",
       "    </tr>\n",
       "    <tr>\n",
       "      <th>KP481</th>\n",
       "      <td>19.44</td>\n",
       "      <td>12.78</td>\n",
       "      <td>1.11</td>\n",
       "      <td>33.33</td>\n",
       "    </tr>\n",
       "    <tr>\n",
       "      <th>KP781</th>\n",
       "      <td>16.67</td>\n",
       "      <td>3.33</td>\n",
       "      <td>2.22</td>\n",
       "      <td>22.22</td>\n",
       "    </tr>\n",
       "    <tr>\n",
       "      <th>All</th>\n",
       "      <td>66.67</td>\n",
       "      <td>26.67</td>\n",
       "      <td>6.67</td>\n",
       "      <td>100.00</td>\n",
       "    </tr>\n",
       "  </tbody>\n",
       "</table>\n",
       "</div>"
      ],
      "text/plain": [
       "Age_cat  Young    Mid   Old     All\n",
       "Product                            \n",
       "KP281    30.56  10.56  3.33   44.44\n",
       "KP481    19.44  12.78  1.11   33.33\n",
       "KP781    16.67   3.33  2.22   22.22\n",
       "All      66.67  26.67  6.67  100.00"
      ]
     },
     "execution_count": 26,
     "metadata": {},
     "output_type": "execute_result"
    }
   ],
   "source": [
    "# conditional probability that an event 'Product' occurs given that another event 'Age_cat' has occurred\n",
    "\n",
    "((pd.crosstab(index =df['Product'],columns = df['Age_cat'],margins = True,normalize = True\n",
    "))*100).round(2)"
   ]
  },
  {
   "cell_type": "code",
   "execution_count": 27,
   "id": "f816c0e8",
   "metadata": {},
   "outputs": [
    {
     "data": {
      "text/html": [
       "<div>\n",
       "<style scoped>\n",
       "    .dataframe tbody tr th:only-of-type {\n",
       "        vertical-align: middle;\n",
       "    }\n",
       "\n",
       "    .dataframe tbody tr th {\n",
       "        vertical-align: top;\n",
       "    }\n",
       "\n",
       "    .dataframe thead th {\n",
       "        text-align: right;\n",
       "    }\n",
       "</style>\n",
       "<table border=\"1\" class=\"dataframe\">\n",
       "  <thead>\n",
       "    <tr style=\"text-align: right;\">\n",
       "      <th>Income_cat</th>\n",
       "      <th>29000-50000</th>\n",
       "      <th>50000-70000</th>\n",
       "      <th>70000-90000</th>\n",
       "      <th>90000-110000</th>\n",
       "      <th>All</th>\n",
       "    </tr>\n",
       "    <tr>\n",
       "      <th>Product</th>\n",
       "      <th></th>\n",
       "      <th></th>\n",
       "      <th></th>\n",
       "      <th></th>\n",
       "      <th></th>\n",
       "    </tr>\n",
       "  </thead>\n",
       "  <tbody>\n",
       "    <tr>\n",
       "      <th>KP281</th>\n",
       "      <td>26.67</td>\n",
       "      <td>17.78</td>\n",
       "      <td>0.00</td>\n",
       "      <td>0.00</td>\n",
       "      <td>44.44</td>\n",
       "    </tr>\n",
       "    <tr>\n",
       "      <th>KP481</th>\n",
       "      <td>16.67</td>\n",
       "      <td>16.67</td>\n",
       "      <td>0.00</td>\n",
       "      <td>0.00</td>\n",
       "      <td>33.33</td>\n",
       "    </tr>\n",
       "    <tr>\n",
       "      <th>KP781</th>\n",
       "      <td>2.78</td>\n",
       "      <td>6.67</td>\n",
       "      <td>6.11</td>\n",
       "      <td>6.67</td>\n",
       "      <td>22.22</td>\n",
       "    </tr>\n",
       "    <tr>\n",
       "      <th>All</th>\n",
       "      <td>46.11</td>\n",
       "      <td>41.11</td>\n",
       "      <td>6.11</td>\n",
       "      <td>6.67</td>\n",
       "      <td>100.00</td>\n",
       "    </tr>\n",
       "  </tbody>\n",
       "</table>\n",
       "</div>"
      ],
      "text/plain": [
       "Income_cat  29000-50000  50000-70000  70000-90000  90000-110000     All\n",
       "Product                                                                \n",
       "KP281             26.67        17.78         0.00          0.00   44.44\n",
       "KP481             16.67        16.67         0.00          0.00   33.33\n",
       "KP781              2.78         6.67         6.11          6.67   22.22\n",
       "All               46.11        41.11         6.11          6.67  100.00"
      ]
     },
     "execution_count": 27,
     "metadata": {},
     "output_type": "execute_result"
    }
   ],
   "source": [
    "#conditional probability that an event 'Product' occurs given that another event 'Income_cat' has occurred\n",
    "\n",
    "((pd.crosstab(index =df['Product'],columns = df['Income_cat'],margins = True,normalize = True\n",
    "))*100).round(2)"
   ]
  },
  {
   "cell_type": "code",
   "execution_count": 28,
   "id": "5c740faf",
   "metadata": {},
   "outputs": [
    {
     "data": {
      "text/html": [
       "<div>\n",
       "<style scoped>\n",
       "    .dataframe tbody tr th:only-of-type {\n",
       "        vertical-align: middle;\n",
       "    }\n",
       "\n",
       "    .dataframe tbody tr th {\n",
       "        vertical-align: top;\n",
       "    }\n",
       "\n",
       "    .dataframe thead th {\n",
       "        text-align: right;\n",
       "    }\n",
       "</style>\n",
       "<table border=\"1\" class=\"dataframe\">\n",
       "  <thead>\n",
       "    <tr style=\"text-align: right;\">\n",
       "      <th>Miles_cat</th>\n",
       "      <th>1-100</th>\n",
       "      <th>100-200</th>\n",
       "      <th>200-300</th>\n",
       "      <th>300-400</th>\n",
       "      <th>All</th>\n",
       "    </tr>\n",
       "    <tr>\n",
       "      <th>Product</th>\n",
       "      <th></th>\n",
       "      <th></th>\n",
       "      <th></th>\n",
       "      <th></th>\n",
       "      <th></th>\n",
       "    </tr>\n",
       "  </thead>\n",
       "  <tbody>\n",
       "    <tr>\n",
       "      <th>KP281</th>\n",
       "      <td>34.44</td>\n",
       "      <td>10.00</td>\n",
       "      <td>0.00</td>\n",
       "      <td>0.00</td>\n",
       "      <td>44.44</td>\n",
       "    </tr>\n",
       "    <tr>\n",
       "      <th>KP481</th>\n",
       "      <td>24.44</td>\n",
       "      <td>8.33</td>\n",
       "      <td>0.56</td>\n",
       "      <td>0.00</td>\n",
       "      <td>33.33</td>\n",
       "    </tr>\n",
       "    <tr>\n",
       "      <th>KP781</th>\n",
       "      <td>4.44</td>\n",
       "      <td>15.00</td>\n",
       "      <td>2.22</td>\n",
       "      <td>0.56</td>\n",
       "      <td>22.22</td>\n",
       "    </tr>\n",
       "    <tr>\n",
       "      <th>All</th>\n",
       "      <td>63.33</td>\n",
       "      <td>33.33</td>\n",
       "      <td>2.78</td>\n",
       "      <td>0.56</td>\n",
       "      <td>100.00</td>\n",
       "    </tr>\n",
       "  </tbody>\n",
       "</table>\n",
       "</div>"
      ],
      "text/plain": [
       "Miles_cat  1-100  100-200  200-300  300-400     All\n",
       "Product                                            \n",
       "KP281      34.44    10.00     0.00     0.00   44.44\n",
       "KP481      24.44     8.33     0.56     0.00   33.33\n",
       "KP781       4.44    15.00     2.22     0.56   22.22\n",
       "All        63.33    33.33     2.78     0.56  100.00"
      ]
     },
     "execution_count": 28,
     "metadata": {},
     "output_type": "execute_result"
    }
   ],
   "source": [
    "# conditional probability that an event 'Product' occurs given that another event 'Miles_cat' has occurred\n",
    "\n",
    "((pd.crosstab(index =df['Product'],columns = df['Miles_cat'],margins = True,normalize = True\n",
    "))*100).round(2)"
   ]
  },
  {
   "cell_type": "code",
   "execution_count": 29,
   "id": "c6362349",
   "metadata": {},
   "outputs": [
    {
     "data": {
      "text/html": [
       "<div>\n",
       "<style scoped>\n",
       "    .dataframe tbody tr th:only-of-type {\n",
       "        vertical-align: middle;\n",
       "    }\n",
       "\n",
       "    .dataframe tbody tr th {\n",
       "        vertical-align: top;\n",
       "    }\n",
       "\n",
       "    .dataframe thead th {\n",
       "        text-align: right;\n",
       "    }\n",
       "</style>\n",
       "<table border=\"1\" class=\"dataframe\">\n",
       "  <thead>\n",
       "    <tr style=\"text-align: right;\">\n",
       "      <th>Usage</th>\n",
       "      <th>2</th>\n",
       "      <th>3</th>\n",
       "      <th>4</th>\n",
       "      <th>5</th>\n",
       "      <th>6</th>\n",
       "      <th>7</th>\n",
       "      <th>All</th>\n",
       "    </tr>\n",
       "    <tr>\n",
       "      <th>Product</th>\n",
       "      <th></th>\n",
       "      <th></th>\n",
       "      <th></th>\n",
       "      <th></th>\n",
       "      <th></th>\n",
       "      <th></th>\n",
       "      <th></th>\n",
       "    </tr>\n",
       "  </thead>\n",
       "  <tbody>\n",
       "    <tr>\n",
       "      <th>KP281</th>\n",
       "      <td>10.56</td>\n",
       "      <td>20.56</td>\n",
       "      <td>12.22</td>\n",
       "      <td>1.11</td>\n",
       "      <td>0.00</td>\n",
       "      <td>0.00</td>\n",
       "      <td>44.44</td>\n",
       "    </tr>\n",
       "    <tr>\n",
       "      <th>KP481</th>\n",
       "      <td>7.78</td>\n",
       "      <td>17.22</td>\n",
       "      <td>6.67</td>\n",
       "      <td>1.67</td>\n",
       "      <td>0.00</td>\n",
       "      <td>0.00</td>\n",
       "      <td>33.33</td>\n",
       "    </tr>\n",
       "    <tr>\n",
       "      <th>KP781</th>\n",
       "      <td>0.00</td>\n",
       "      <td>0.56</td>\n",
       "      <td>10.00</td>\n",
       "      <td>6.67</td>\n",
       "      <td>3.89</td>\n",
       "      <td>1.11</td>\n",
       "      <td>22.22</td>\n",
       "    </tr>\n",
       "    <tr>\n",
       "      <th>All</th>\n",
       "      <td>18.33</td>\n",
       "      <td>38.33</td>\n",
       "      <td>28.89</td>\n",
       "      <td>9.44</td>\n",
       "      <td>3.89</td>\n",
       "      <td>1.11</td>\n",
       "      <td>100.00</td>\n",
       "    </tr>\n",
       "  </tbody>\n",
       "</table>\n",
       "</div>"
      ],
      "text/plain": [
       "Usage        2      3      4     5     6     7     All\n",
       "Product                                               \n",
       "KP281    10.56  20.56  12.22  1.11  0.00  0.00   44.44\n",
       "KP481     7.78  17.22   6.67  1.67  0.00  0.00   33.33\n",
       "KP781     0.00   0.56  10.00  6.67  3.89  1.11   22.22\n",
       "All      18.33  38.33  28.89  9.44  3.89  1.11  100.00"
      ]
     },
     "execution_count": 29,
     "metadata": {},
     "output_type": "execute_result"
    }
   ],
   "source": [
    "# conditional probability that an event 'Product' occurs given that another event 'Usage' has occurred\n",
    "\n",
    "((pd.crosstab(index =df['Product'],columns = df['Usage'],margins=True,normalize = True))*100).round(2)"
   ]
  },
  {
   "cell_type": "code",
   "execution_count": 30,
   "id": "5c06f1c1",
   "metadata": {},
   "outputs": [
    {
     "data": {
      "text/html": [
       "<div>\n",
       "<style scoped>\n",
       "    .dataframe tbody tr th:only-of-type {\n",
       "        vertical-align: middle;\n",
       "    }\n",
       "\n",
       "    .dataframe tbody tr th {\n",
       "        vertical-align: top;\n",
       "    }\n",
       "\n",
       "    .dataframe thead th {\n",
       "        text-align: right;\n",
       "    }\n",
       "</style>\n",
       "<table border=\"1\" class=\"dataframe\">\n",
       "  <thead>\n",
       "    <tr style=\"text-align: right;\">\n",
       "      <th>Fitness</th>\n",
       "      <th>1</th>\n",
       "      <th>2</th>\n",
       "      <th>3</th>\n",
       "      <th>4</th>\n",
       "      <th>5</th>\n",
       "      <th>All</th>\n",
       "    </tr>\n",
       "    <tr>\n",
       "      <th>Product</th>\n",
       "      <th></th>\n",
       "      <th></th>\n",
       "      <th></th>\n",
       "      <th></th>\n",
       "      <th></th>\n",
       "      <th></th>\n",
       "    </tr>\n",
       "  </thead>\n",
       "  <tbody>\n",
       "    <tr>\n",
       "      <th>KP281</th>\n",
       "      <td>0.56</td>\n",
       "      <td>7.78</td>\n",
       "      <td>30.00</td>\n",
       "      <td>5.00</td>\n",
       "      <td>1.11</td>\n",
       "      <td>44.44</td>\n",
       "    </tr>\n",
       "    <tr>\n",
       "      <th>KP481</th>\n",
       "      <td>0.56</td>\n",
       "      <td>6.67</td>\n",
       "      <td>21.67</td>\n",
       "      <td>4.44</td>\n",
       "      <td>0.00</td>\n",
       "      <td>33.33</td>\n",
       "    </tr>\n",
       "    <tr>\n",
       "      <th>KP781</th>\n",
       "      <td>0.00</td>\n",
       "      <td>0.00</td>\n",
       "      <td>2.22</td>\n",
       "      <td>3.89</td>\n",
       "      <td>16.11</td>\n",
       "      <td>22.22</td>\n",
       "    </tr>\n",
       "    <tr>\n",
       "      <th>All</th>\n",
       "      <td>1.11</td>\n",
       "      <td>14.44</td>\n",
       "      <td>53.89</td>\n",
       "      <td>13.33</td>\n",
       "      <td>17.22</td>\n",
       "      <td>100.00</td>\n",
       "    </tr>\n",
       "  </tbody>\n",
       "</table>\n",
       "</div>"
      ],
      "text/plain": [
       "Fitness     1      2      3      4      5     All\n",
       "Product                                          \n",
       "KP281    0.56   7.78  30.00   5.00   1.11   44.44\n",
       "KP481    0.56   6.67  21.67   4.44   0.00   33.33\n",
       "KP781    0.00   0.00   2.22   3.89  16.11   22.22\n",
       "All      1.11  14.44  53.89  13.33  17.22  100.00"
      ]
     },
     "execution_count": 30,
     "metadata": {},
     "output_type": "execute_result"
    }
   ],
   "source": [
    "# conditional probability that an event 'Product' occurs given that another event 'Fitness' has occurred\n",
    "\n",
    "((pd.crosstab(index =df['Product'],columns=df['Fitness'],margins=True,normalize=True ))*100).round(2)"
   ]
  },
  {
   "cell_type": "markdown",
   "id": "86e376a8",
   "metadata": {},
   "source": [
    "-  Find the conditional probability that an event occurs given that another event has occurred. (Example: given that a customer is female, what is the probability she’ll purchase a KP481)"
   ]
  },
  {
   "cell_type": "code",
   "execution_count": 31,
   "id": "ed7cda0e",
   "metadata": {},
   "outputs": [
    {
     "name": "stdout",
     "output_type": "stream",
     "text": [
      "Conditional probability of purchasing product KP281 given that the customer is female:\n",
      "0.5263157894736842\n"
     ]
    }
   ],
   "source": [
    "# Calculate the conditional probability for gender=female for Product KP281\n",
    "female_customers = df[df['Gender'] == 'Female']\n",
    "prob_female_purchasing_KP281 = (female_customers['Product'] == 'KP281').sum() / len(female_customers)\n",
    "\n",
    "print(\"Conditional probability of purchasing product KP281 given that the customer is female:\")\n",
    "print(prob_female_purchasing_KP281)"
   ]
  },
  {
   "cell_type": "code",
   "execution_count": 32,
   "id": "b1994a38",
   "metadata": {},
   "outputs": [
    {
     "name": "stdout",
     "output_type": "stream",
     "text": [
      "Conditional probability of purchasing each product given that the customer is in the specified gender:\n",
      "{'KP281': 0.5263157894736842, 'KP481': 0.3815789473684211, 'KP781': 0.09210526315789473}\n"
     ]
    }
   ],
   "source": [
    "# Filter the DataFrame for customers of a specific gender\n",
    "gender_customers = df[df['Gender'] == 'Female']  \n",
    "# Calculate the conditional probability for each product\n",
    "prob_purchasing_product_given_gender = {}\n",
    "for product in df['Product'].unique():\n",
    "    prob_purchasing_product_given_gender[product] = (gender_customers['Product'] == product).sum() / len(gender_customers)\n",
    "\n",
    "print(\"Conditional probability of purchasing each product given that the customer is in the specified gender:\")\n",
    "print(prob_purchasing_product_given_gender)\n"
   ]
  },
  {
   "cell_type": "markdown",
   "id": "9961ef23",
   "metadata": {},
   "source": [
    "- so the product kp781 having low contribution from female and more than half of contribution to the product purchases is from female"
   ]
  },
  {
   "cell_type": "code",
   "execution_count": 33,
   "id": "917b26ab",
   "metadata": {},
   "outputs": [
    {
     "name": "stdout",
     "output_type": "stream",
     "text": [
      "Conditional probability of purchasing each product given that the customer is in the specified gender:\n",
      "{'KP281': 0.38461538461538464, 'KP481': 0.2980769230769231, 'KP781': 0.3173076923076923}\n"
     ]
    }
   ],
   "source": [
    "# Filter the DataFrame for customers of a specific gender\n",
    "gender_customers = df[df['Gender'] == 'Male'] \n",
    "# Calculate the conditional probability for each product\n",
    "prob_purchasing_product_given_gender = {}\n",
    "for product in df['Product'].unique():\n",
    "    prob_purchasing_product_given_gender[product] = (gender_customers['Product'] == product).sum() / len(gender_customers)\n",
    "\n",
    "print(\"Conditional probability of purchasing each product given that the customer is in the specified gender:\")\n",
    "print(prob_purchasing_product_given_gender)\n"
   ]
  },
  {
   "cell_type": "markdown",
   "id": "656dd4a0",
   "metadata": {},
   "source": [
    "- Gender male is having a kind of balanced and equal contribution of product purchases"
   ]
  },
  {
   "cell_type": "code",
   "execution_count": 34,
   "id": "5bdbca99",
   "metadata": {},
   "outputs": [
    {
     "name": "stdout",
     "output_type": "stream",
     "text": [
      "Conditional probability of purchasing each product given that the customer is in the specified age category:\n",
      "{'KP281': 0.4583333333333333, 'KP481': 0.2916666666666667, 'KP781': 0.25}\n"
     ]
    }
   ],
   "source": [
    "# Filter the DataFrame for customers in a specific age category\n",
    "age_category_customers = df[df['Age_cat'] == 'Young']  \n",
    "# Calculate the conditional probability for each product\n",
    "prob_purchasing_product_given_age_category = {}\n",
    "for product in df['Product'].unique():\n",
    "    prob_purchasing_product_given_age_category[product] = (age_category_customers['Product'] == product).sum() / len(age_category_customers)\n",
    "\n",
    "print(\"Conditional probability of purchasing each product given that the customer is in the specified age category:\")\n",
    "print(prob_purchasing_product_given_age_category)"
   ]
  },
  {
   "cell_type": "markdown",
   "id": "8e74fef0",
   "metadata": {},
   "source": [
    "- Young aged people are more interested to purchase KP281"
   ]
  },
  {
   "cell_type": "code",
   "execution_count": 35,
   "id": "84f2db39",
   "metadata": {},
   "outputs": [
    {
     "name": "stdout",
     "output_type": "stream",
     "text": [
      "Conditional probability of purchasing each product given that the customer is in the specified age category:\n",
      "{'KP281': 0.3958333333333333, 'KP481': 0.4791666666666667, 'KP781': 0.125}\n"
     ]
    }
   ],
   "source": [
    "# Filter the DataFrame for customers in a specific age category\n",
    "age_category_customers = df[df['Age_cat'] == 'Mid']  \n",
    "# Calculate the conditional probability for each product\n",
    "prob_purchasing_product_given_age_category = {}\n",
    "for product in df['Product'].unique():\n",
    "    prob_purchasing_product_given_age_category[product] = (age_category_customers['Product'] == product).sum() / len(age_category_customers)\n",
    "\n",
    "print(\"Conditional probability of purchasing each product given that the customer is in the specified age category:\")\n",
    "print(prob_purchasing_product_given_age_category)"
   ]
  },
  {
   "cell_type": "markdown",
   "id": "2efee0c7",
   "metadata": {},
   "source": [
    "- Mid age customers are more likely to purchase product KP481 and are having less interest towards KP781"
   ]
  },
  {
   "cell_type": "code",
   "execution_count": 36,
   "id": "cc3f8aca",
   "metadata": {},
   "outputs": [
    {
     "name": "stdout",
     "output_type": "stream",
     "text": [
      "Conditional probability of purchasing each product given that the customer is in the specified age category:\n",
      "{'KP281': 0.5, 'KP481': 0.16666666666666666, 'KP781': 0.3333333333333333}\n"
     ]
    }
   ],
   "source": [
    "# Filter the DataFrame for customers in a specific age category\n",
    "age_category_customers = df[df['Age_cat'] == 'Old']  \n",
    "# Calculate the conditional probability for each product\n",
    "prob_purchasing_product_given_age_category = {}\n",
    "for product in df['Product'].unique():\n",
    "    prob_purchasing_product_given_age_category[product] = (age_category_customers['Product'] == product).sum() / len(age_category_customers)\n",
    "\n",
    "print(\"Conditional probability of purchasing each product given that the customer is in the specified age category:\")\n",
    "print(prob_purchasing_product_given_age_category)"
   ]
  },
  {
   "cell_type": "markdown",
   "id": "4925f28e",
   "metadata": {},
   "source": [
    "- Old aged people are more interested to purchase KP281"
   ]
  },
  {
   "cell_type": "code",
   "execution_count": 37,
   "id": "74125096",
   "metadata": {},
   "outputs": [
    {
     "name": "stdout",
     "output_type": "stream",
     "text": [
      "Conditional probability of purchasing each product given that the customer has the specified marital status:\n",
      "{'KP281': 0.4383561643835616, 'KP481': 0.3287671232876712, 'KP781': 0.2328767123287671}\n"
     ]
    }
   ],
   "source": [
    "# Filter the DataFrame for customers with a specific marital status\n",
    "marital_status_customers = df[df['MaritalStatus'] == 'Single']  \n",
    "# Calculate the conditional probability for each product\n",
    "prob_purchasing_product_given_marital_status = {}\n",
    "for product in df['Product'].unique():\n",
    "    prob_purchasing_product_given_marital_status[product] = (marital_status_customers['Product'] == product).sum() / len(marital_status_customers)\n",
    "\n",
    "print(\"Conditional probability of purchasing each product given that the customer has the specified marital status:\")\n",
    "print(prob_purchasing_product_given_marital_status)\n"
   ]
  },
  {
   "cell_type": "code",
   "execution_count": 38,
   "id": "dbb86946",
   "metadata": {},
   "outputs": [
    {
     "name": "stdout",
     "output_type": "stream",
     "text": [
      "Conditional probability of purchasing each product given that the customer is in the specified income category:\n",
      "{'KP281': 0.5783132530120482, 'KP481': 0.3614457831325301, 'KP781': 0.060240963855421686}\n"
     ]
    }
   ],
   "source": [
    "# Filter the DataFrame for customers in a specific income category\n",
    "income_category_customers = df[df['Income_cat'] == '29000-50000']  \n",
    "# Calculate the conditional probability for each product\n",
    "prob_purchasing_product_given_income_category = {}\n",
    "for product in df['Product'].unique():\n",
    "    prob_purchasing_product_given_income_category[product] = (income_category_customers['Product'] == product).sum() / len(income_category_customers)\n",
    "\n",
    "print(\"Conditional probability of purchasing each product given that the customer is in the specified income category:\")\n",
    "print(prob_purchasing_product_given_income_category)\n"
   ]
  },
  {
   "cell_type": "code",
   "execution_count": 39,
   "id": "2d1fbc13",
   "metadata": {},
   "outputs": [
    {
     "name": "stdout",
     "output_type": "stream",
     "text": [
      "Conditional probability of purchasing each product given that the customer is in the specified income category:\n",
      "{'KP281': 0.43243243243243246, 'KP481': 0.40540540540540543, 'KP781': 0.16216216216216217}\n"
     ]
    }
   ],
   "source": [
    "# Filter the DataFrame for customers in a specific income category\n",
    "income_category_customers = df[df['Income_cat'] == '50000-70000']  \n",
    "# Calculate the conditional probability for each product\n",
    "prob_purchasing_product_given_income_category = {}\n",
    "for product in df['Product'].unique():\n",
    "    prob_purchasing_product_given_income_category[product] = (income_category_customers['Product'] == product).sum() / len(income_category_customers)\n",
    "\n",
    "print(\"Conditional probability of purchasing each product given that the customer is in the specified income category:\")\n",
    "print(prob_purchasing_product_given_income_category)\n"
   ]
  },
  {
   "cell_type": "code",
   "execution_count": 40,
   "id": "f8aefb24",
   "metadata": {},
   "outputs": [
    {
     "name": "stdout",
     "output_type": "stream",
     "text": [
      "Conditional probability of purchasing each product given that the customer is in the specified income category:\n",
      "{'KP281': 0.0, 'KP481': 0.0, 'KP781': 1.0}\n"
     ]
    }
   ],
   "source": [
    "# Filter the DataFrame for customers in a specific income category\n",
    "income_category_customers = df[df['Income_cat'] == '70000-90000']  \n",
    "# Calculate the conditional probability for each product\n",
    "prob_purchasing_product_given_income_category = {}\n",
    "for product in df['Product'].unique():\n",
    "    prob_purchasing_product_given_income_category[product] = (income_category_customers['Product'] == product).sum() / len(income_category_customers)\n",
    "\n",
    "print(\"Conditional probability of purchasing each product given that the customer is in the specified income category:\")\n",
    "print(prob_purchasing_product_given_income_category)\n"
   ]
  },
  {
   "cell_type": "code",
   "execution_count": 41,
   "id": "31397a46",
   "metadata": {},
   "outputs": [
    {
     "name": "stdout",
     "output_type": "stream",
     "text": [
      "Conditional probability of purchasing each product given that the customer is in the specified income category:\n",
      "{'KP281': 0.0, 'KP481': 0.0, 'KP781': 1.0}\n"
     ]
    }
   ],
   "source": [
    "# Filter the DataFrame for customers in a specific income category\n",
    "income_category_customers = df[df['Income_cat'] == '90000-110000']  \n",
    "# Calculate the conditional probability for each product\n",
    "prob_purchasing_product_given_income_category = {}\n",
    "for product in df['Product'].unique():\n",
    "    prob_purchasing_product_given_income_category[product] = (income_category_customers['Product'] == product).sum() / len(income_category_customers)\n",
    "\n",
    "print(\"Conditional probability of purchasing each product given that the customer is in the specified income category:\")\n",
    "print(prob_purchasing_product_given_income_category)\n"
   ]
  },
  {
   "cell_type": "code",
   "execution_count": 42,
   "id": "d176d899",
   "metadata": {},
   "outputs": [
    {
     "name": "stdout",
     "output_type": "stream",
     "text": [
      "Conditional probability of purchasing each product given that the customer is in the specified mile category:\n",
      "{'KP281': 0.543859649122807, 'KP481': 0.38596491228070173, 'KP781': 0.07017543859649122}\n"
     ]
    }
   ],
   "source": [
    "# Filter the DataFrame for customers in a specific mile category\n",
    "mile_category_customers = df[df['Miles_cat'] == '1-100'] \n",
    "# Calculate the conditional probability for each product\n",
    "prob_purchasing_product_given_mile_category = {}\n",
    "for product in df['Product'].unique():\n",
    "    prob_purchasing_product_given_mile_category[product] = (mile_category_customers['Product'] == product).sum() / len(mile_category_customers)\n",
    "\n",
    "print(\"Conditional probability of purchasing each product given that the customer is in the specified mile category:\")\n",
    "print(prob_purchasing_product_given_mile_category)\n"
   ]
  },
  {
   "cell_type": "code",
   "execution_count": 43,
   "id": "086c8fe0",
   "metadata": {},
   "outputs": [
    {
     "name": "stdout",
     "output_type": "stream",
     "text": [
      "Conditional probability of purchasing each product given that the customer is in the specified mile category:\n",
      "{'KP281': 0.3, 'KP481': 0.25, 'KP781': 0.45}\n"
     ]
    }
   ],
   "source": [
    "# Filter the DataFrame for customers in a specific mile category\n",
    "mile_category_customers = df[df['Miles_cat'] == '100-200'] \n",
    "# Calculate the conditional probability for each product\n",
    "prob_purchasing_product_given_mile_category = {}\n",
    "for product in df['Product'].unique():\n",
    "    prob_purchasing_product_given_mile_category[product] = (mile_category_customers['Product'] == product).sum() / len(mile_category_customers)\n",
    "\n",
    "print(\"Conditional probability of purchasing each product given that the customer is in the specified mile category:\")\n",
    "print(prob_purchasing_product_given_mile_category)\n"
   ]
  },
  {
   "cell_type": "code",
   "execution_count": 44,
   "id": "304d3ea2",
   "metadata": {},
   "outputs": [
    {
     "name": "stdout",
     "output_type": "stream",
     "text": [
      "Conditional probability of purchasing each product given that the customer is in the specified mile category:\n",
      "{'KP281': 0.0, 'KP481': 0.2, 'KP781': 0.8}\n"
     ]
    }
   ],
   "source": [
    "# Filter the DataFrame for customers in a specific mile category\n",
    "mile_category_customers = df[df['Miles_cat'] == '200-300'] \n",
    "# Calculate the conditional probability for each product\n",
    "prob_purchasing_product_given_mile_category = {}\n",
    "for product in df['Product'].unique():\n",
    "    prob_purchasing_product_given_mile_category[product] = (mile_category_customers['Product'] == product).sum() / len(mile_category_customers)\n",
    "\n",
    "print(\"Conditional probability of purchasing each product given that the customer is in the specified mile category:\")\n",
    "print(prob_purchasing_product_given_mile_category)\n"
   ]
  },
  {
   "cell_type": "code",
   "execution_count": 45,
   "id": "c6745624",
   "metadata": {},
   "outputs": [
    {
     "name": "stdout",
     "output_type": "stream",
     "text": [
      "Conditional probability of purchasing each product given that the customer is in the specified mile category:\n",
      "{'KP281': 0.0, 'KP481': 0.0, 'KP781': 1.0}\n"
     ]
    }
   ],
   "source": [
    "# Filter the DataFrame for customers in a specific mile category\n",
    "mile_category_customers = df[df['Miles_cat'] == '300-400'] \n",
    "# Calculate the conditional probability for each product\n",
    "prob_purchasing_product_given_mile_category = {}\n",
    "for product in df['Product'].unique():\n",
    "    prob_purchasing_product_given_mile_category[product] = (mile_category_customers['Product'] == product).sum() / len(mile_category_customers)\n",
    "\n",
    "print(\"Conditional probability of purchasing each product given that the customer is in the specified mile category:\")\n",
    "print(prob_purchasing_product_given_mile_category)\n"
   ]
  },
  {
   "cell_type": "markdown",
   "id": "39fc4293",
   "metadata": {},
   "source": [
    "### 5. Check the correlation among different factors"
   ]
  },
  {
   "cell_type": "markdown",
   "id": "3b3ac338",
   "metadata": {},
   "source": [
    "- Find the correlation between the given features in the table."
   ]
  },
  {
   "cell_type": "code",
   "execution_count": 46,
   "id": "40140055",
   "metadata": {},
   "outputs": [
    {
     "data": {
      "text/html": [
       "<div>\n",
       "<style scoped>\n",
       "    .dataframe tbody tr th:only-of-type {\n",
       "        vertical-align: middle;\n",
       "    }\n",
       "\n",
       "    .dataframe tbody tr th {\n",
       "        vertical-align: top;\n",
       "    }\n",
       "\n",
       "    .dataframe thead th {\n",
       "        text-align: right;\n",
       "    }\n",
       "</style>\n",
       "<table border=\"1\" class=\"dataframe\">\n",
       "  <thead>\n",
       "    <tr style=\"text-align: right;\">\n",
       "      <th></th>\n",
       "      <th>Age</th>\n",
       "      <th>Education</th>\n",
       "      <th>Usage</th>\n",
       "      <th>Fitness</th>\n",
       "      <th>Income</th>\n",
       "      <th>Miles</th>\n",
       "    </tr>\n",
       "  </thead>\n",
       "  <tbody>\n",
       "    <tr>\n",
       "      <th>Age</th>\n",
       "      <td>1.000000</td>\n",
       "      <td>0.280496</td>\n",
       "      <td>0.015064</td>\n",
       "      <td>0.061105</td>\n",
       "      <td>0.513414</td>\n",
       "      <td>0.036618</td>\n",
       "    </tr>\n",
       "    <tr>\n",
       "      <th>Education</th>\n",
       "      <td>0.280496</td>\n",
       "      <td>1.000000</td>\n",
       "      <td>0.395155</td>\n",
       "      <td>0.410581</td>\n",
       "      <td>0.625827</td>\n",
       "      <td>0.307284</td>\n",
       "    </tr>\n",
       "    <tr>\n",
       "      <th>Usage</th>\n",
       "      <td>0.015064</td>\n",
       "      <td>0.395155</td>\n",
       "      <td>1.000000</td>\n",
       "      <td>0.668606</td>\n",
       "      <td>0.519537</td>\n",
       "      <td>0.759130</td>\n",
       "    </tr>\n",
       "    <tr>\n",
       "      <th>Fitness</th>\n",
       "      <td>0.061105</td>\n",
       "      <td>0.410581</td>\n",
       "      <td>0.668606</td>\n",
       "      <td>1.000000</td>\n",
       "      <td>0.535005</td>\n",
       "      <td>0.785702</td>\n",
       "    </tr>\n",
       "    <tr>\n",
       "      <th>Income</th>\n",
       "      <td>0.513414</td>\n",
       "      <td>0.625827</td>\n",
       "      <td>0.519537</td>\n",
       "      <td>0.535005</td>\n",
       "      <td>1.000000</td>\n",
       "      <td>0.543473</td>\n",
       "    </tr>\n",
       "    <tr>\n",
       "      <th>Miles</th>\n",
       "      <td>0.036618</td>\n",
       "      <td>0.307284</td>\n",
       "      <td>0.759130</td>\n",
       "      <td>0.785702</td>\n",
       "      <td>0.543473</td>\n",
       "      <td>1.000000</td>\n",
       "    </tr>\n",
       "  </tbody>\n",
       "</table>\n",
       "</div>"
      ],
      "text/plain": [
       "                Age  Education     Usage   Fitness    Income     Miles\n",
       "Age        1.000000   0.280496  0.015064  0.061105  0.513414  0.036618\n",
       "Education  0.280496   1.000000  0.395155  0.410581  0.625827  0.307284\n",
       "Usage      0.015064   0.395155  1.000000  0.668606  0.519537  0.759130\n",
       "Fitness    0.061105   0.410581  0.668606  1.000000  0.535005  0.785702\n",
       "Income     0.513414   0.625827  0.519537  0.535005  1.000000  0.543473\n",
       "Miles      0.036618   0.307284  0.759130  0.785702  0.543473  1.000000"
      ]
     },
     "execution_count": 46,
     "metadata": {},
     "output_type": "execute_result"
    }
   ],
   "source": [
    "df.corr()"
   ]
  },
  {
   "cell_type": "code",
   "execution_count": 47,
   "id": "6a65ddde",
   "metadata": {},
   "outputs": [
    {
     "data": {
      "image/png": "[encoded data removed]",
      "text/plain": [
       "<Figure size 500x300 with 2 Axes>"
      ]
     },
     "metadata": {},
     "output_type": "display_data"
    }
   ],
   "source": [
    "# Calculate the correlation matrix\n",
    "correlation_matrix = df.corr()\n",
    "\n",
    "# Plot the heatmap\n",
    "plt.figure(figsize=(5,3))\n",
    "sns.heatmap(correlation_matrix, annot=True, cmap=\"coolwarm\", fmt=\".2f\", linewidths=0.5)\n",
    "plt.title(\"Correlation Matrix\")\n",
    "plt.show()"
   ]
  },
  {
   "cell_type": "markdown",
   "id": "d82444c5",
   "metadata": {},
   "source": [
    "**Noteworthy Points**\n",
    "\n",
    "1) The product/treadmill purchased highly correlates with Education, Income, Usage, Fitness and Miles \n",
    "\n",
    "2) Age is highly correlated to Income (0.51) which definitely seems reasonable. It's also correlated with Education and Marital Status which stands completely alright.\n",
    "\n",
    "3) Gender certainly has some correlation to Usage, Fitness, Income and Miles. \n",
    "\n",
    "4) Education is correlated to Age and Miles. It's highly correlated to Income (as expected). It's sufficiently correlated to Usage and Fitness too.\n",
    "\n",
    "5) Marital Status has some correlation to Income and Age (as expected).\n",
    "\n",
    "6) Usage is extremely correlated to Fitness and Miles and has a higher correlation with Income as well.\n",
    "\n",
    "7) Fitness has a great correlation with Income.\n",
    "\n",
    "**More Observations and Possibilities:-**\n",
    "\n",
    "1) Product, Fitness, Usage and Miles depict a ridiculously higher correlation among themselves which looks as expected since more the usage implying more miles run and certainly more fitness.\n",
    "\n",
    "2) Also a story which seems reasonable is that Age and Education (predominately) are indicators of Income which affects the products bought. The more advanced the product is, the more its usage and hence more the miles run which in turns improves the fitness. \n",
    "\n",
    "Note:- Above point 2 is just something which may or mayn't be true as **Correlation doesn't imply Causation**."
   ]
  },
  {
   "cell_type": "markdown",
   "id": "01b8aec5",
   "metadata": {},
   "source": [
    "• From the plot we can see ‘Age and Income’ are positively correlated and the heatmap also suggests a strong correlation between them.\n",
    "\n",
    "• ‘Education’ income is highly correlated as is obvious. Education also has a significant correlation between ‘Fitness rating and Usage of the treadmill’.\n",
    "\n",
    "• ‘Usage’ is highly correlated with ‘Fitness and Miles’ as the more the usage more the fitness and mileage."
   ]
  },
  {
   "cell_type": "markdown",
   "id": "e46601d7",
   "metadata": {},
   "source": [
    "### 6. Customer profiling and recommendation"
   ]
  },
  {
   "cell_type": "markdown",
   "id": "db1f41b8",
   "metadata": {},
   "source": [
    "- Make customer profilings for each and every product."
   ]
  },
  {
   "cell_type": "code",
   "execution_count": 48,
   "id": "b5bf5907",
   "metadata": {},
   "outputs": [
    {
     "name": "stdout",
     "output_type": "stream",
     "text": [
      "Customer Profiling for KP281:\n",
      "Age Profile:\n",
      "count    80.000000\n",
      "mean     28.550000\n",
      "std       7.221452\n",
      "min      18.000000\n",
      "25%      23.000000\n",
      "50%      26.000000\n",
      "75%      33.000000\n",
      "max      50.000000\n",
      "Name: Age, dtype: float64\n",
      "\n",
      "Gender Profile:\n",
      "Male      0.5\n",
      "Female    0.5\n",
      "Name: Gender, dtype: float64\n",
      "\n",
      "Income Group Profile:\n",
      "46617    0.0875\n",
      "54576    0.0875\n",
      "52302    0.0750\n",
      "35247    0.0625\n",
      "45480    0.0625\n",
      "44343    0.0500\n",
      "40932    0.0500\n",
      "32973    0.0375\n",
      "36384    0.0375\n",
      "38658    0.0375\n",
      "51165    0.0375\n",
      "53439    0.0375\n",
      "56850    0.0250\n",
      "50028    0.0250\n",
      "48891    0.0250\n",
      "60261    0.0250\n",
      "42069    0.0250\n",
      "39795    0.0250\n",
      "34110    0.0250\n",
      "37521    0.0250\n",
      "61398    0.0125\n",
      "59124    0.0125\n",
      "57987    0.0125\n",
      "67083    0.0125\n",
      "29562    0.0125\n",
      "55713    0.0125\n",
      "68220    0.0125\n",
      "43206    0.0125\n",
      "31836    0.0125\n",
      "30699    0.0125\n",
      "64809    0.0125\n",
      "Name: Income, dtype: float64\n"
     ]
    }
   ],
   "source": [
    "# Filter the dataset to include only customers who have purchased the product KP281\n",
    "kp281_customers = df[df['Product'] == 'KP281']\n",
    "\n",
    "# Customer profiling for KP281\n",
    "age_profile = kp281_customers['Age'].describe()  # Age statistics\n",
    "gender_profile = kp281_customers['Gender'].value_counts(normalize=True)  # Gender distribution\n",
    "income_profile = kp281_customers['Income'].value_counts(normalize=True)  # Income group distribution\n",
    "\n",
    "print(\"Customer Profiling for KP281:\")\n",
    "print(\"Age Profile:\")\n",
    "print(age_profile)\n",
    "print(\"\\nGender Profile:\")\n",
    "print(gender_profile)\n",
    "print(\"\\nIncome Group Profile:\")\n",
    "print(income_profile)"
   ]
  },
  {
   "cell_type": "code",
   "execution_count": 49,
   "id": "bc80fd7c",
   "metadata": {},
   "outputs": [
    {
     "name": "stdout",
     "output_type": "stream",
     "text": [
      "Customer Profiling for KP481:\n",
      "Age Profile:\n",
      "count    60.000000\n",
      "mean     28.900000\n",
      "std       6.645248\n",
      "min      19.000000\n",
      "25%      24.000000\n",
      "50%      26.000000\n",
      "75%      33.250000\n",
      "max      48.000000\n",
      "Name: Age, dtype: float64\n",
      "\n",
      "Gender Profile:\n",
      "Male      0.516667\n",
      "Female    0.483333\n",
      "Name: Gender, dtype: float64\n",
      "\n",
      "Income Group Profile:\n",
      "45480    0.150000\n",
      "50028    0.083333\n",
      "53439    0.083333\n",
      "43206    0.066667\n",
      "51165    0.066667\n",
      "34110    0.050000\n",
      "48891    0.050000\n",
      "52302    0.050000\n",
      "57987    0.050000\n",
      "38658    0.033333\n",
      "40932    0.033333\n",
      "64809    0.033333\n",
      "47754    0.033333\n",
      "32973    0.033333\n",
      "59124    0.033333\n",
      "61398    0.016667\n",
      "62535    0.016667\n",
      "67083    0.016667\n",
      "31836    0.016667\n",
      "60261    0.016667\n",
      "65220    0.016667\n",
      "46617    0.016667\n",
      "36384    0.016667\n",
      "54576    0.016667\n",
      "Name: Income, dtype: float64\n"
     ]
    }
   ],
   "source": [
    "# Filter the dataset to include only customers who have purchased the product KP481\n",
    "kp481_customers = df[df['Product'] == 'KP481']\n",
    "\n",
    "# Customer profiling for KP481\n",
    "age_profile = kp481_customers['Age'].describe()  # Age statistics\n",
    "gender_profile = kp481_customers['Gender'].value_counts(normalize=True)  # Gender distribution\n",
    "income_profile = kp481_customers['Income'].value_counts(normalize=True)  # Income group distribution\n",
    "\n",
    "print(\"Customer Profiling for KP481:\")\n",
    "print(\"Age Profile:\")\n",
    "print(age_profile)\n",
    "print(\"\\nGender Profile:\")\n",
    "print(gender_profile)\n",
    "print(\"\\nIncome Group Profile:\")\n",
    "print(income_profile)"
   ]
  },
  {
   "cell_type": "code",
   "execution_count": 50,
   "id": "a82f8392",
   "metadata": {},
   "outputs": [
    {
     "name": "stdout",
     "output_type": "stream",
     "text": [
      "Customer Profiling for KP781:\n",
      "Age Profile:\n",
      "count    40.000000\n",
      "mean     29.100000\n",
      "std       6.971738\n",
      "min      22.000000\n",
      "25%      24.750000\n",
      "50%      27.000000\n",
      "75%      30.250000\n",
      "max      48.000000\n",
      "Name: Age, dtype: float64\n",
      "\n",
      "Gender Profile:\n",
      "Male      0.825\n",
      "Female    0.175\n",
      "Name: Gender, dtype: float64\n",
      "\n",
      "Income Group Profile:\n",
      "92131     0.075\n",
      "90886     0.075\n",
      "49801     0.050\n",
      "89641     0.050\n",
      "83416     0.050\n",
      "64741     0.050\n",
      "88396     0.050\n",
      "61006     0.050\n",
      "104581    0.050\n",
      "48556     0.050\n",
      "99601     0.025\n",
      "103336    0.025\n",
      "95866     0.025\n",
      "85906     0.025\n",
      "52290     0.025\n",
      "77191     0.025\n",
      "48658     0.025\n",
      "69721     0.025\n",
      "54781     0.025\n",
      "74701     0.025\n",
      "75946     0.025\n",
      "70966     0.025\n",
      "62251     0.025\n",
      "52291     0.025\n",
      "57271     0.025\n",
      "53536     0.025\n",
      "58516     0.025\n",
      "95508     0.025\n",
      "Name: Income, dtype: float64\n"
     ]
    }
   ],
   "source": [
    "# Filter the dataset to include only customers who have purchased the product KP481\n",
    "kp781_customers = df[df['Product'] == 'KP781']\n",
    "\n",
    "# Customer profiling for KP781\n",
    "age_profile = kp781_customers['Age'].describe()  # Age statistics\n",
    "gender_profile = kp781_customers['Gender'].value_counts(normalize=True)  # Gender distribution\n",
    "income_profile = kp781_customers['Income'].value_counts(normalize=True)  # Income group distribution\n",
    "\n",
    "print(\"Customer Profiling for KP781:\")\n",
    "print(\"Age Profile:\")\n",
    "print(age_profile)\n",
    "print(\"\\nGender Profile:\")\n",
    "print(gender_profile)\n",
    "print(\"\\nIncome Group Profile:\")\n",
    "print(income_profile)"
   ]
  },
  {
   "cell_type": "markdown",
   "id": "23ba51aa",
   "metadata": {},
   "source": [
    "### Additional Analysis"
   ]
  },
  {
   "cell_type": "code",
   "execution_count": 51,
   "id": "da89f0e3",
   "metadata": {},
   "outputs": [
    {
     "data": {
      "image/png": "[encoded data removed]",
      "text/plain": [
       "<Figure size 1000x400 with 1 Axes>"
      ]
     },
     "metadata": {},
     "output_type": "display_data"
    },
    {
     "data": {
      "image/png": "[encoded data removed]",
      "text/plain": [
       "<Figure size 1000x400 with 1 Axes>"
      ]
     },
     "metadata": {},
     "output_type": "display_data"
    },
    {
     "data": {
      "image/png": "[encoded data removed]",
      "text/plain": [
       "<Figure size 1000x400 with 1 Axes>"
      ]
     },
     "metadata": {},
     "output_type": "display_data"
    },
    {
     "data": {
      "image/png": "[encoded data removed]",
      "text/plain": [
       "<Figure size 1000x400 with 1 Axes>"
      ]
     },
     "metadata": {},
     "output_type": "display_data"
    },
    {
     "data": {
      "image/png": "[encoded data removed]",
      "text/plain": [
       "<Figure size 1000x400 with 1 Axes>"
      ]
     },
     "metadata": {},
     "output_type": "display_data"
    },
    {
     "data": {
      "image/png": "[encoded data removed]",
      "text/plain": [
       "<Figure size 1000x400 with 1 Axes>"
      ]
     },
     "metadata": {},
     "output_type": "display_data"
    },
    {
     "data": {
      "image/png": "[encoded data removed]",
      "text/plain": [
       "<Figure size 1000x400 with 1 Axes>"
      ]
     },
     "metadata": {},
     "output_type": "display_data"
    },
    {
     "data": {
      "image/png": "[encoded data removed]",
      "text/plain": [
       "<Figure size 1000x400 with 1 Axes>"
      ]
     },
     "metadata": {},
     "output_type": "display_data"
    }
   ],
   "source": [
    "cat_cols=['Gender','Education', 'MaritalStatus', 'Usage','Fitness','Age_cat','Income_cat','Miles_cat']\n",
    "for i in cat_cols:\n",
    "    other= round(pd.crosstab(df[df[i].notnull()][i], df['Product']).\\\n",
    "                 div(pd.crosstab(df[df[i].notnull()][i],df['Product']).apply(sum,1),0),2)\n",
    "    ax = other.plot(kind ='bar', title = i, figsize = (10,4))\n",
    "    ax.set_xlabel(i)\n",
    "    ax.set_ylabel('Proportion')\n",
    "    plt.xticks(rotation=45)\n",
    "    plt.show()"
   ]
  },
  {
   "cell_type": "markdown",
   "id": "d57fc1dd",
   "metadata": {},
   "source": [
    "**Observations on the basis of above Categorical Plots**\n",
    "\n",
    "1) Around 55% of women prefer KP281 and only 10% prefer KP781. While around 35% of men prefer KP781.\n",
    "\n",
    "2) 80% in Eduation level of 18 and everyone in Education levels of 20 or 21 use KP781 while below 14 level, no one uses KP781.\n",
    "\n",
    "3) Marital Status implies no significant information on the usages of different treadmills.\n",
    "\n",
    "4) Those who workout 6 or 7 days a week use KP781 while 60% of those who workout 5 days a week use KP781.\n",
    "\n",
    "5) 95% of customers having fitness level of 5 use KP781 and none of those having fitness level below 3 use KP781.\n",
    "\n",
    "6) No one below 20 years of age use KP781.\n",
    "\n",
    "7) Above 70000 units of Income, people only use KP781 while in Incomes below 45000, no one uses KP781.\n",
    "\n",
    "8) Almost 80% of people who run over 200 miles and those who run above 150 miles use KP781 and no one who runs below 50 miles use KP781. The usage of KP281 decreases with the increase in miles while that of KP781 increases with the increase in miles."
   ]
  },
  {
   "cell_type": "markdown",
   "id": "2dce2efc",
   "metadata": {},
   "source": [
    "# Let's deal with Probabilities:"
   ]
  },
  {
   "cell_type": "markdown",
   "id": "28b9db33",
   "metadata": {},
   "source": [
    "**Conditional probabilities** - are the probability that an event occurs given that another event has occurred. For example, given that a customer is female, what is the probability she’ll purchase a Mac?\n",
    "\n",
    "**Marginal Probablities** - Divide the row or column total by the total sample size. Marginal probabilities are the probabilities that a single event occurs with no regard to other events in the table. These probabilities do not depend on the condition of another outcome. \n",
    "\n",
    "Probability(Mac) ; Probability(Female) "
   ]
  },
  {
   "cell_type": "markdown",
   "id": "bac1a20d",
   "metadata": {},
   "source": [
    "**Normalize**: Default value is False Normalize by dividing all values by the sum of values:\n",
    "\n",
    "If passed ‘all’ or True, will normalize over all values.\n",
    "\n",
    "If passed ‘index’ will normalize over each row.\n",
    "\n",
    "If passed ‘columns’ will normalize over each column.\n",
    "\n",
    "If margins is True, will also normalize margin values."
   ]
  },
  {
   "cell_type": "code",
   "execution_count": 52,
   "id": "f03caee1",
   "metadata": {},
   "outputs": [
    {
     "name": "stdout",
     "output_type": "stream",
     "text": [
      "Table for Gender vs Treadmill Product\n"
     ]
    },
    {
     "data": {
      "text/html": [
       "<div>\n",
       "<style scoped>\n",
       "    .dataframe tbody tr th:only-of-type {\n",
       "        vertical-align: middle;\n",
       "    }\n",
       "\n",
       "    .dataframe tbody tr th {\n",
       "        vertical-align: top;\n",
       "    }\n",
       "\n",
       "    .dataframe thead th {\n",
       "        text-align: right;\n",
       "    }\n",
       "</style>\n",
       "<table border=\"1\" class=\"dataframe\">\n",
       "  <thead>\n",
       "    <tr style=\"text-align: right;\">\n",
       "      <th>Product</th>\n",
       "      <th>KP281</th>\n",
       "      <th>KP481</th>\n",
       "      <th>KP781</th>\n",
       "    </tr>\n",
       "    <tr>\n",
       "      <th>Gender</th>\n",
       "      <th></th>\n",
       "      <th></th>\n",
       "      <th></th>\n",
       "    </tr>\n",
       "  </thead>\n",
       "  <tbody>\n",
       "    <tr>\n",
       "      <th>Female</th>\n",
       "      <td>0.526316</td>\n",
       "      <td>0.381579</td>\n",
       "      <td>0.092105</td>\n",
       "    </tr>\n",
       "    <tr>\n",
       "      <th>Male</th>\n",
       "      <td>0.384615</td>\n",
       "      <td>0.298077</td>\n",
       "      <td>0.317308</td>\n",
       "    </tr>\n",
       "    <tr>\n",
       "      <th>All</th>\n",
       "      <td>0.444444</td>\n",
       "      <td>0.333333</td>\n",
       "      <td>0.222222</td>\n",
       "    </tr>\n",
       "  </tbody>\n",
       "</table>\n",
       "</div>"
      ],
      "text/plain": [
       "Product     KP281     KP481     KP781\n",
       "Gender                               \n",
       "Female   0.526316  0.381579  0.092105\n",
       "Male     0.384615  0.298077  0.317308\n",
       "All      0.444444  0.333333  0.222222"
      ]
     },
     "metadata": {},
     "output_type": "display_data"
    },
    {
     "name": "stdout",
     "output_type": "stream",
     "text": [
      "\n",
      "\n",
      "Table for Education vs Treadmill Product\n"
     ]
    },
    {
     "data": {
      "text/html": [
       "<div>\n",
       "<style scoped>\n",
       "    .dataframe tbody tr th:only-of-type {\n",
       "        vertical-align: middle;\n",
       "    }\n",
       "\n",
       "    .dataframe tbody tr th {\n",
       "        vertical-align: top;\n",
       "    }\n",
       "\n",
       "    .dataframe thead th {\n",
       "        text-align: right;\n",
       "    }\n",
       "</style>\n",
       "<table border=\"1\" class=\"dataframe\">\n",
       "  <thead>\n",
       "    <tr style=\"text-align: right;\">\n",
       "      <th>Product</th>\n",
       "      <th>KP281</th>\n",
       "      <th>KP481</th>\n",
       "      <th>KP781</th>\n",
       "    </tr>\n",
       "    <tr>\n",
       "      <th>Education</th>\n",
       "      <th></th>\n",
       "      <th></th>\n",
       "      <th></th>\n",
       "    </tr>\n",
       "  </thead>\n",
       "  <tbody>\n",
       "    <tr>\n",
       "      <th>12</th>\n",
       "      <td>0.666667</td>\n",
       "      <td>0.333333</td>\n",
       "      <td>0.000000</td>\n",
       "    </tr>\n",
       "    <tr>\n",
       "      <th>13</th>\n",
       "      <td>0.600000</td>\n",
       "      <td>0.400000</td>\n",
       "      <td>0.000000</td>\n",
       "    </tr>\n",
       "    <tr>\n",
       "      <th>14</th>\n",
       "      <td>0.545455</td>\n",
       "      <td>0.418182</td>\n",
       "      <td>0.036364</td>\n",
       "    </tr>\n",
       "    <tr>\n",
       "      <th>15</th>\n",
       "      <td>0.800000</td>\n",
       "      <td>0.200000</td>\n",
       "      <td>0.000000</td>\n",
       "    </tr>\n",
       "    <tr>\n",
       "      <th>16</th>\n",
       "      <td>0.458824</td>\n",
       "      <td>0.364706</td>\n",
       "      <td>0.176471</td>\n",
       "    </tr>\n",
       "    <tr>\n",
       "      <th>18</th>\n",
       "      <td>0.086957</td>\n",
       "      <td>0.086957</td>\n",
       "      <td>0.826087</td>\n",
       "    </tr>\n",
       "    <tr>\n",
       "      <th>20</th>\n",
       "      <td>0.000000</td>\n",
       "      <td>0.000000</td>\n",
       "      <td>1.000000</td>\n",
       "    </tr>\n",
       "    <tr>\n",
       "      <th>21</th>\n",
       "      <td>0.000000</td>\n",
       "      <td>0.000000</td>\n",
       "      <td>1.000000</td>\n",
       "    </tr>\n",
       "    <tr>\n",
       "      <th>All</th>\n",
       "      <td>0.444444</td>\n",
       "      <td>0.333333</td>\n",
       "      <td>0.222222</td>\n",
       "    </tr>\n",
       "  </tbody>\n",
       "</table>\n",
       "</div>"
      ],
      "text/plain": [
       "Product       KP281     KP481     KP781\n",
       "Education                              \n",
       "12         0.666667  0.333333  0.000000\n",
       "13         0.600000  0.400000  0.000000\n",
       "14         0.545455  0.418182  0.036364\n",
       "15         0.800000  0.200000  0.000000\n",
       "16         0.458824  0.364706  0.176471\n",
       "18         0.086957  0.086957  0.826087\n",
       "20         0.000000  0.000000  1.000000\n",
       "21         0.000000  0.000000  1.000000\n",
       "All        0.444444  0.333333  0.222222"
      ]
     },
     "metadata": {},
     "output_type": "display_data"
    },
    {
     "name": "stdout",
     "output_type": "stream",
     "text": [
      "\n",
      "\n",
      "Table for MaritalStatus vs Treadmill Product\n"
     ]
    },
    {
     "data": {
      "text/html": [
       "<div>\n",
       "<style scoped>\n",
       "    .dataframe tbody tr th:only-of-type {\n",
       "        vertical-align: middle;\n",
       "    }\n",
       "\n",
       "    .dataframe tbody tr th {\n",
       "        vertical-align: top;\n",
       "    }\n",
       "\n",
       "    .dataframe thead th {\n",
       "        text-align: right;\n",
       "    }\n",
       "</style>\n",
       "<table border=\"1\" class=\"dataframe\">\n",
       "  <thead>\n",
       "    <tr style=\"text-align: right;\">\n",
       "      <th>Product</th>\n",
       "      <th>KP281</th>\n",
       "      <th>KP481</th>\n",
       "      <th>KP781</th>\n",
       "    </tr>\n",
       "    <tr>\n",
       "      <th>MaritalStatus</th>\n",
       "      <th></th>\n",
       "      <th></th>\n",
       "      <th></th>\n",
       "    </tr>\n",
       "  </thead>\n",
       "  <tbody>\n",
       "    <tr>\n",
       "      <th>Partnered</th>\n",
       "      <td>0.448598</td>\n",
       "      <td>0.336449</td>\n",
       "      <td>0.214953</td>\n",
       "    </tr>\n",
       "    <tr>\n",
       "      <th>Single</th>\n",
       "      <td>0.438356</td>\n",
       "      <td>0.328767</td>\n",
       "      <td>0.232877</td>\n",
       "    </tr>\n",
       "    <tr>\n",
       "      <th>All</th>\n",
       "      <td>0.444444</td>\n",
       "      <td>0.333333</td>\n",
       "      <td>0.222222</td>\n",
       "    </tr>\n",
       "  </tbody>\n",
       "</table>\n",
       "</div>"
      ],
      "text/plain": [
       "Product           KP281     KP481     KP781\n",
       "MaritalStatus                              \n",
       "Partnered      0.448598  0.336449  0.214953\n",
       "Single         0.438356  0.328767  0.232877\n",
       "All            0.444444  0.333333  0.222222"
      ]
     },
     "metadata": {},
     "output_type": "display_data"
    },
    {
     "name": "stdout",
     "output_type": "stream",
     "text": [
      "\n",
      "\n",
      "Table for Usage vs Treadmill Product\n"
     ]
    },
    {
     "data": {
      "text/html": [
       "<div>\n",
       "<style scoped>\n",
       "    .dataframe tbody tr th:only-of-type {\n",
       "        vertical-align: middle;\n",
       "    }\n",
       "\n",
       "    .dataframe tbody tr th {\n",
       "        vertical-align: top;\n",
       "    }\n",
       "\n",
       "    .dataframe thead th {\n",
       "        text-align: right;\n",
       "    }\n",
       "</style>\n",
       "<table border=\"1\" class=\"dataframe\">\n",
       "  <thead>\n",
       "    <tr style=\"text-align: right;\">\n",
       "      <th>Product</th>\n",
       "      <th>KP281</th>\n",
       "      <th>KP481</th>\n",
       "      <th>KP781</th>\n",
       "    </tr>\n",
       "    <tr>\n",
       "      <th>Usage</th>\n",
       "      <th></th>\n",
       "      <th></th>\n",
       "      <th></th>\n",
       "    </tr>\n",
       "  </thead>\n",
       "  <tbody>\n",
       "    <tr>\n",
       "      <th>2</th>\n",
       "      <td>0.575758</td>\n",
       "      <td>0.424242</td>\n",
       "      <td>0.000000</td>\n",
       "    </tr>\n",
       "    <tr>\n",
       "      <th>3</th>\n",
       "      <td>0.536232</td>\n",
       "      <td>0.449275</td>\n",
       "      <td>0.014493</td>\n",
       "    </tr>\n",
       "    <tr>\n",
       "      <th>4</th>\n",
       "      <td>0.423077</td>\n",
       "      <td>0.230769</td>\n",
       "      <td>0.346154</td>\n",
       "    </tr>\n",
       "    <tr>\n",
       "      <th>5</th>\n",
       "      <td>0.117647</td>\n",
       "      <td>0.176471</td>\n",
       "      <td>0.705882</td>\n",
       "    </tr>\n",
       "    <tr>\n",
       "      <th>6</th>\n",
       "      <td>0.000000</td>\n",
       "      <td>0.000000</td>\n",
       "      <td>1.000000</td>\n",
       "    </tr>\n",
       "    <tr>\n",
       "      <th>7</th>\n",
       "      <td>0.000000</td>\n",
       "      <td>0.000000</td>\n",
       "      <td>1.000000</td>\n",
       "    </tr>\n",
       "    <tr>\n",
       "      <th>All</th>\n",
       "      <td>0.444444</td>\n",
       "      <td>0.333333</td>\n",
       "      <td>0.222222</td>\n",
       "    </tr>\n",
       "  </tbody>\n",
       "</table>\n",
       "</div>"
      ],
      "text/plain": [
       "Product     KP281     KP481     KP781\n",
       "Usage                                \n",
       "2        0.575758  0.424242  0.000000\n",
       "3        0.536232  0.449275  0.014493\n",
       "4        0.423077  0.230769  0.346154\n",
       "5        0.117647  0.176471  0.705882\n",
       "6        0.000000  0.000000  1.000000\n",
       "7        0.000000  0.000000  1.000000\n",
       "All      0.444444  0.333333  0.222222"
      ]
     },
     "metadata": {},
     "output_type": "display_data"
    },
    {
     "name": "stdout",
     "output_type": "stream",
     "text": [
      "\n",
      "\n",
      "Table for Fitness vs Treadmill Product\n"
     ]
    },
    {
     "data": {
      "text/html": [
       "<div>\n",
       "<style scoped>\n",
       "    .dataframe tbody tr th:only-of-type {\n",
       "        vertical-align: middle;\n",
       "    }\n",
       "\n",
       "    .dataframe tbody tr th {\n",
       "        vertical-align: top;\n",
       "    }\n",
       "\n",
       "    .dataframe thead th {\n",
       "        text-align: right;\n",
       "    }\n",
       "</style>\n",
       "<table border=\"1\" class=\"dataframe\">\n",
       "  <thead>\n",
       "    <tr style=\"text-align: right;\">\n",
       "      <th>Product</th>\n",
       "      <th>KP281</th>\n",
       "      <th>KP481</th>\n",
       "      <th>KP781</th>\n",
       "    </tr>\n",
       "    <tr>\n",
       "      <th>Fitness</th>\n",
       "      <th></th>\n",
       "      <th></th>\n",
       "      <th></th>\n",
       "    </tr>\n",
       "  </thead>\n",
       "  <tbody>\n",
       "    <tr>\n",
       "      <th>1</th>\n",
       "      <td>0.500000</td>\n",
       "      <td>0.500000</td>\n",
       "      <td>0.000000</td>\n",
       "    </tr>\n",
       "    <tr>\n",
       "      <th>2</th>\n",
       "      <td>0.538462</td>\n",
       "      <td>0.461538</td>\n",
       "      <td>0.000000</td>\n",
       "    </tr>\n",
       "    <tr>\n",
       "      <th>3</th>\n",
       "      <td>0.556701</td>\n",
       "      <td>0.402062</td>\n",
       "      <td>0.041237</td>\n",
       "    </tr>\n",
       "    <tr>\n",
       "      <th>4</th>\n",
       "      <td>0.375000</td>\n",
       "      <td>0.333333</td>\n",
       "      <td>0.291667</td>\n",
       "    </tr>\n",
       "    <tr>\n",
       "      <th>5</th>\n",
       "      <td>0.064516</td>\n",
       "      <td>0.000000</td>\n",
       "      <td>0.935484</td>\n",
       "    </tr>\n",
       "    <tr>\n",
       "      <th>All</th>\n",
       "      <td>0.444444</td>\n",
       "      <td>0.333333</td>\n",
       "      <td>0.222222</td>\n",
       "    </tr>\n",
       "  </tbody>\n",
       "</table>\n",
       "</div>"
      ],
      "text/plain": [
       "Product     KP281     KP481     KP781\n",
       "Fitness                              \n",
       "1        0.500000  0.500000  0.000000\n",
       "2        0.538462  0.461538  0.000000\n",
       "3        0.556701  0.402062  0.041237\n",
       "4        0.375000  0.333333  0.291667\n",
       "5        0.064516  0.000000  0.935484\n",
       "All      0.444444  0.333333  0.222222"
      ]
     },
     "metadata": {},
     "output_type": "display_data"
    },
    {
     "name": "stdout",
     "output_type": "stream",
     "text": [
      "\n",
      "\n",
      "Table for Age_cat vs Treadmill Product\n"
     ]
    },
    {
     "data": {
      "text/html": [
       "<div>\n",
       "<style scoped>\n",
       "    .dataframe tbody tr th:only-of-type {\n",
       "        vertical-align: middle;\n",
       "    }\n",
       "\n",
       "    .dataframe tbody tr th {\n",
       "        vertical-align: top;\n",
       "    }\n",
       "\n",
       "    .dataframe thead th {\n",
       "        text-align: right;\n",
       "    }\n",
       "</style>\n",
       "<table border=\"1\" class=\"dataframe\">\n",
       "  <thead>\n",
       "    <tr style=\"text-align: right;\">\n",
       "      <th>Product</th>\n",
       "      <th>KP281</th>\n",
       "      <th>KP481</th>\n",
       "      <th>KP781</th>\n",
       "    </tr>\n",
       "    <tr>\n",
       "      <th>Age_cat</th>\n",
       "      <th></th>\n",
       "      <th></th>\n",
       "      <th></th>\n",
       "    </tr>\n",
       "  </thead>\n",
       "  <tbody>\n",
       "    <tr>\n",
       "      <th>Young</th>\n",
       "      <td>0.458333</td>\n",
       "      <td>0.291667</td>\n",
       "      <td>0.250000</td>\n",
       "    </tr>\n",
       "    <tr>\n",
       "      <th>Mid</th>\n",
       "      <td>0.395833</td>\n",
       "      <td>0.479167</td>\n",
       "      <td>0.125000</td>\n",
       "    </tr>\n",
       "    <tr>\n",
       "      <th>Old</th>\n",
       "      <td>0.500000</td>\n",
       "      <td>0.166667</td>\n",
       "      <td>0.333333</td>\n",
       "    </tr>\n",
       "    <tr>\n",
       "      <th>All</th>\n",
       "      <td>0.444444</td>\n",
       "      <td>0.333333</td>\n",
       "      <td>0.222222</td>\n",
       "    </tr>\n",
       "  </tbody>\n",
       "</table>\n",
       "</div>"
      ],
      "text/plain": [
       "Product     KP281     KP481     KP781\n",
       "Age_cat                              \n",
       "Young    0.458333  0.291667  0.250000\n",
       "Mid      0.395833  0.479167  0.125000\n",
       "Old      0.500000  0.166667  0.333333\n",
       "All      0.444444  0.333333  0.222222"
      ]
     },
     "metadata": {},
     "output_type": "display_data"
    },
    {
     "name": "stdout",
     "output_type": "stream",
     "text": [
      "\n",
      "\n",
      "Table for Income_cat vs Treadmill Product\n"
     ]
    },
    {
     "data": {
      "text/html": [
       "<div>\n",
       "<style scoped>\n",
       "    .dataframe tbody tr th:only-of-type {\n",
       "        vertical-align: middle;\n",
       "    }\n",
       "\n",
       "    .dataframe tbody tr th {\n",
       "        vertical-align: top;\n",
       "    }\n",
       "\n",
       "    .dataframe thead th {\n",
       "        text-align: right;\n",
       "    }\n",
       "</style>\n",
       "<table border=\"1\" class=\"dataframe\">\n",
       "  <thead>\n",
       "    <tr style=\"text-align: right;\">\n",
       "      <th>Product</th>\n",
       "      <th>KP281</th>\n",
       "      <th>KP481</th>\n",
       "      <th>KP781</th>\n",
       "    </tr>\n",
       "    <tr>\n",
       "      <th>Income_cat</th>\n",
       "      <th></th>\n",
       "      <th></th>\n",
       "      <th></th>\n",
       "    </tr>\n",
       "  </thead>\n",
       "  <tbody>\n",
       "    <tr>\n",
       "      <th>29000-50000</th>\n",
       "      <td>0.578313</td>\n",
       "      <td>0.361446</td>\n",
       "      <td>0.060241</td>\n",
       "    </tr>\n",
       "    <tr>\n",
       "      <th>50000-70000</th>\n",
       "      <td>0.432432</td>\n",
       "      <td>0.405405</td>\n",
       "      <td>0.162162</td>\n",
       "    </tr>\n",
       "    <tr>\n",
       "      <th>70000-90000</th>\n",
       "      <td>0.000000</td>\n",
       "      <td>0.000000</td>\n",
       "      <td>1.000000</td>\n",
       "    </tr>\n",
       "    <tr>\n",
       "      <th>90000-110000</th>\n",
       "      <td>0.000000</td>\n",
       "      <td>0.000000</td>\n",
       "      <td>1.000000</td>\n",
       "    </tr>\n",
       "    <tr>\n",
       "      <th>All</th>\n",
       "      <td>0.444444</td>\n",
       "      <td>0.333333</td>\n",
       "      <td>0.222222</td>\n",
       "    </tr>\n",
       "  </tbody>\n",
       "</table>\n",
       "</div>"
      ],
      "text/plain": [
       "Product          KP281     KP481     KP781\n",
       "Income_cat                                \n",
       "29000-50000   0.578313  0.361446  0.060241\n",
       "50000-70000   0.432432  0.405405  0.162162\n",
       "70000-90000   0.000000  0.000000  1.000000\n",
       "90000-110000  0.000000  0.000000  1.000000\n",
       "All           0.444444  0.333333  0.222222"
      ]
     },
     "metadata": {},
     "output_type": "display_data"
    },
    {
     "name": "stdout",
     "output_type": "stream",
     "text": [
      "\n",
      "\n",
      "Table for Miles_cat vs Treadmill Product\n"
     ]
    },
    {
     "data": {
      "text/html": [
       "<div>\n",
       "<style scoped>\n",
       "    .dataframe tbody tr th:only-of-type {\n",
       "        vertical-align: middle;\n",
       "    }\n",
       "\n",
       "    .dataframe tbody tr th {\n",
       "        vertical-align: top;\n",
       "    }\n",
       "\n",
       "    .dataframe thead th {\n",
       "        text-align: right;\n",
       "    }\n",
       "</style>\n",
       "<table border=\"1\" class=\"dataframe\">\n",
       "  <thead>\n",
       "    <tr style=\"text-align: right;\">\n",
       "      <th>Product</th>\n",
       "      <th>KP281</th>\n",
       "      <th>KP481</th>\n",
       "      <th>KP781</th>\n",
       "    </tr>\n",
       "    <tr>\n",
       "      <th>Miles_cat</th>\n",
       "      <th></th>\n",
       "      <th></th>\n",
       "      <th></th>\n",
       "    </tr>\n",
       "  </thead>\n",
       "  <tbody>\n",
       "    <tr>\n",
       "      <th>1-100</th>\n",
       "      <td>0.543860</td>\n",
       "      <td>0.385965</td>\n",
       "      <td>0.070175</td>\n",
       "    </tr>\n",
       "    <tr>\n",
       "      <th>100-200</th>\n",
       "      <td>0.300000</td>\n",
       "      <td>0.250000</td>\n",
       "      <td>0.450000</td>\n",
       "    </tr>\n",
       "    <tr>\n",
       "      <th>200-300</th>\n",
       "      <td>0.000000</td>\n",
       "      <td>0.200000</td>\n",
       "      <td>0.800000</td>\n",
       "    </tr>\n",
       "    <tr>\n",
       "      <th>300-400</th>\n",
       "      <td>0.000000</td>\n",
       "      <td>0.000000</td>\n",
       "      <td>1.000000</td>\n",
       "    </tr>\n",
       "    <tr>\n",
       "      <th>All</th>\n",
       "      <td>0.444444</td>\n",
       "      <td>0.333333</td>\n",
       "      <td>0.222222</td>\n",
       "    </tr>\n",
       "  </tbody>\n",
       "</table>\n",
       "</div>"
      ],
      "text/plain": [
       "Product       KP281     KP481     KP781\n",
       "Miles_cat                              \n",
       "1-100      0.543860  0.385965  0.070175\n",
       "100-200    0.300000  0.250000  0.450000\n",
       "200-300    0.000000  0.200000  0.800000\n",
       "300-400    0.000000  0.000000  1.000000\n",
       "All        0.444444  0.333333  0.222222"
      ]
     },
     "metadata": {},
     "output_type": "display_data"
    },
    {
     "name": "stdout",
     "output_type": "stream",
     "text": [
      "\n",
      "\n"
     ]
    }
   ],
   "source": [
    "from IPython.display import display\n",
    "cat_cols=['Gender','Education', 'MaritalStatus', 'Usage','Fitness','Age_cat','Income_cat','Miles_cat']\n",
    "for i in cat_cols:\n",
    "  print('Table for',str(i),'vs Treadmill Product')\n",
    "  display(pd.crosstab(df[i], df['Product'], margins=True, normalize='index'))\n",
    "  print(\"\\n\")"
   ]
  },
  {
   "cell_type": "markdown",
   "id": "6060112c",
   "metadata": {},
   "source": [
    "Normalize parameter accept boolean values. It depicts the percentage of time each combination occurs (i.e. the marginal probability). \n",
    "\n",
    "They normalize by dividing all values by the sum of values.\n",
    "\n",
    "* If passed ‘all’ or True, will normalize over all values.\n",
    "\n",
    "* If passed ‘index’ will normalize over each row.\n",
    "\n",
    "* If passed ‘columns’ will normalize over each column.\n",
    "\n",
    "* In case if margins is True, will also normalize margin values."
   ]
  },
  {
   "cell_type": "markdown",
   "id": "055d843f",
   "metadata": {},
   "source": [
    "**Brief depiction of Probabilities Inferred from the above tables**\n",
    "\n",
    "1) In all the tables, one can see the last row named All, it consists of the overall probabilities of purchases of those 3 treadmills, i.e. - Probability of purchase of KP281= 44.44%, KP481= 33.33% and KP781=22.22%\n",
    "\n",
    "2) P(KP281|Education=12) = 66.66% and P(KP781|Education=18) = 82.6%\n",
    "   P(KP781|Education=20) = P(KP781|Education=21) = 100%\n",
    "\n",
    "3) P(KP281|Usage=2) = 57.57%, P(KP781|Usage=6)=P(KP781|Usage=7) = 100%\n",
    "\n",
    "4) P(KP481|Fitness=2) = 46.15%\n",
    "\n",
    "5) P(KP481|Age_bins=30-35) = 53.12% \n",
    "\n",
    "6) P(KP781|Income>70000) = 100% and P(KP481|Income_bins=45000-50000) = 44.11%\n",
    "\n",
    "7) P(KP281|Mile_bins<50) = 70.5% and  P(KP781|Mile_bins>150)=82.1%"
   ]
  },
  {
   "cell_type": "markdown",
   "id": "e58cfc20",
   "metadata": {},
   "source": [
    "# Recommendations and Customer Profiling -"
   ]
  },
  {
   "cell_type": "markdown",
   "id": "22ef1676",
   "metadata": {},
   "source": [
    "**Customer Profiles for KP781**\n",
    "<br>\n",
    "\n",
    "1) Only people having incomes greater than 70k have run over 220 miles and all of then use KP781.\n",
    "\n",
    "2) Recommend KP781 if one or more conditions are satisfied along with a necessary condition of Income > 70000:-\n",
    "<br>\n",
    "    a) Education Level >= 18\n",
    "    b) Usage days > = 5 \n",
    "    c) Fitness Levels = 5 \n",
    "    d) The person runs more than 150 miles(80% of them use KP781)\n",
    "\n",
    "3) Never Recommend KP781 if one or more of these conditions are satisfied:-\n",
    "<br>\n",
    "    a) Education Levels < 14\n",
    "    b) Fitness < 3\n",
    "    c) Age < 20\n",
    "    d)Income < 45000\n",
    "    e) Miles run < 50 \n",
    "\n",
    "**Why very few women have bought the luxurious KP781 treadmill?**\n",
    "<br>\n",
    "Only 2 women have incomes over 70k which is certainly the reason for a large proportion of them not buying KP781(affordability).\n",
    "\n",
    "\n",
    "**Note for below mentioned points**\n",
    "KP281 and KP481 don't have much differences in their costs and the characteristics of customers who use them . Still a few of them have been identified but they need to be validated with an incremental data.\n",
    "\n",
    "**Customer Profiles for KP281:**\n",
    "\n",
    "1) Women having incomes below 70k and age > 40 \n",
    "<br>\n",
    "2) Customers having income in range 60k-70k and usage days=3 \n",
    "<br>\n",
    "3) Customers having income in range 45k-50k and usage days=2\n",
    "<br> \n",
    "4) Customers having income in range 35k-45k and usage days=4 \n",
    "<br>\n",
    "5) Customers having income in range 50k-60k and usage days=4\n",
    "<br>\n",
    "6) Customers with Fitness=4, age closer to 40 and income 50k-60k\n",
    "<br>\n",
    "7) Customers with Education Level=16, Age>32 and income 45k-50k\n",
    "<br>\n",
    "8) Customers with Education Level=16, Age>45 and income 60k-70k\n",
    "<br>\n",
    "9) Customers with Age in 25-30 and 35-40 having incomes in range 35k-45k \n",
    "<br>\n",
    "10) Customers with 40+ Age and 60k-70k income\n",
    "<br>\n",
    "11) Women with incomes < 35k and whose miles run < 105 \n",
    "<br>\n",
    "12) Customers with usages=5, incomes in range 35k-45k and who run more than 140 miles\n",
    "<br>\n",
    "13) Customers with Fitness=5, incomes < 70k and Incomes in 45k-50k\n",
    "<br>\n",
    "14) Customers with Education level=15 having incomes less than 35k\n",
    "<br>\n",
    "15) Customers with Usages=3, miles run < 70 and Age>40\n",
    "<br>\n",
    "16) Customers with Usages=2 and Age between 25-30\n",
    "\n",
    "\n",
    "**Customer Profiles for KP481:**\n",
    "\n",
    "1) Women having incomes below 70k and age between 32-37 \n",
    "<br>\n",
    "2) Customers with age < 25, incomes in range 50-60k and the miles run is in the range 100-150\n",
    "<br>\n",
    "3) Customers with Fitness=4, age in range 25-32 and income 50k-60k\n",
    "<br>\n",
    "4) Customers with Education Level=16, Age< 22 and income 45k-50k\n",
    "<br>\n",
    "5) Customers with Education Level=16, Age< 35 and income 60k-70k\n",
    "<br>\n",
    "6) Customers with 35-40 Age and 60k-70k income\n",
    "<br>\n",
    "7) Women with incomes < 35k and whose miles run >105\n",
    "<br>\n",
    "8) Men with incomes 60k-70k and who tread in range 100-150 miles \n",
    "<br>\n",
    "9) Customers with Fitness=4, incomes < 45k-50k and who run more than 100 miles\n",
    "<br>\n",
    "10) Customers with Education level=13 having incomes in ranges 45-60k\n",
    "<br>\n",
    "11) Customers with Usages=2 and Age>40"
   ]
  },
  {
   "cell_type": "markdown",
   "id": "0c4a4c2c",
   "metadata": {},
   "source": [
    "Marketing Campaigns for KP781:\n",
    "\n",
    "- The KP784 model exhibits a significant sales disparity in terms of gender, with only 18% of total sales attributed to female customers. To enhance this metric, it is recommended to implement targeted strategies such as offering special promotions and trials exclusively designed for female customers.Gender males have a kind of balanced and equal contribution to product purchases. And keep it up.\n",
    "-\tOld aged group has low interest in 'KP781' which is 0.060240963855421686, Have to focus on that aged group\n",
    "\n",
    "\n",
    "Affordable Pricing and Payment Plans:\n",
    "\n",
    "- Given the target customer's age, education level, and income, it's important to offer the KP281 and KP481 treadmills at an affordable price point. Additionally, consider providing flexible payment plans that allow customers to spread the cost over several months. This can make the treadmill more accessible to customers with varying budgets\n",
    "\n",
    "User-Friendly App Integration:\n",
    "\n",
    "- Create a user-friendly app that syncs with the treadmill. This app could track users' weekly running mileage, provide real-time feedback on their progress, and offer personalized recommendations for workouts based on their fitness scale and goals. This can enhance the overall treadmill experience and keep users engaged.\n"
   ]
  }
 ],
 "metadata": {
  "kernelspec": {
   "display_name": "Python 3 (ipykernel)",
   "language": "python",
   "name": "python3"
  },
  "language_info": {
   "codemirror_mode": {
    "name": "ipython",
    "version": 3
   },
   "file_extension": ".py",
   "mimetype": "text/x-python",
   "name": "python",
   "nbconvert_exporter": "python",
   "pygments_lexer": "ipython3",
   "version": "3.9.13"
  }
 },
 "nbformat": 4,
 "nbformat_minor": 5
}
